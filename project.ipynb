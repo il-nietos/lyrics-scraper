{
 "cells": [
  {
   "cell_type": "markdown",
   "id": "3b873d6a",
   "metadata": {},
   "source": [
    "# Import packages"
   ]
  },
  {
   "cell_type": "code",
   "execution_count": 1070,
   "id": "e36cba0d",
   "metadata": {},
   "outputs": [],
   "source": [
    "import re\n",
    "import requests\n",
    "import pprint\n",
    "import urllib.error, urllib.parse, urllib.request\n",
    "from bs4 import BeautifulSoup as bs \n",
    "import os\n",
    "from collections import Counter\n",
    "import glob\n",
    "\n",
    "import argparse\n",
    "\n",
    "import nltk\n",
    "from sklearn.feature_extraction.text import CountVectorizer\n",
    "from nltk.stem import WordNetLemmatizer\n",
    "wordnet_lemmatizer = WordNetLemmatizer()\n",
    "from nltk.tokenize import word_tokenize\n",
    "from nltk.tokenize import TreebankWordTokenizer # very good tokenizer for english, considers sentence structure\n",
    "from nltk.corpus import stopwords\n",
    "#nltk.download('wordnet')\n",
    "#nltk.download('punkt')\n",
    "#nltk.download('averaged_perceptron_tagger')\n",
    "from sklearn.feature_extraction.text import TfidfVectorizer\n",
    "\n",
    "from sklearn.model_selection import train_test_split\n",
    "\n",
    "from sklearn.linear_model import LogisticRegression\n",
    "from sklearn.metrics import accuracy_score, precision_score, recall_score, f1_score, confusion_matrix, ConfusionMatrixDisplay\n",
    "from sklearn.ensemble import RandomForestClassifier\n",
    "from sklearn.dummy import DummyClassifier\n",
    "\n",
    "from imblearn.over_sampling import RandomOverSampler, SMOTE, ADASYN\n",
    "from imblearn.under_sampling import RandomUnderSampler\n",
    "from sklearn.naive_bayes import MultinomialNB\n",
    "\n",
    "import numpy as np\n",
    "import pandas as pd\n",
    "from os import path\n",
    "from PIL import Image\n",
    "from wordcloud import WordCloud, STOPWORDS, ImageColorGenerator\n",
    "\n",
    "import matplotlib.pyplot as plt\n",
    "%matplotlib inline"
   ]
  },
  {
   "cell_type": "markdown",
   "id": "728384d2",
   "metadata": {},
   "source": [
    "## Suppress future warnings"
   ]
  },
  {
   "cell_type": "code",
   "execution_count": 980,
   "id": "bf189181",
   "metadata": {},
   "outputs": [],
   "source": [
    "import warnings\n",
    "\n",
    "warnings.simplefilter(action='ignore', category=FutureWarning)"
   ]
  },
  {
   "cell_type": "markdown",
   "id": "170cbc6c",
   "metadata": {},
   "source": [
    "# Argparse - to do"
   ]
  },
  {
   "cell_type": "code",
   "execution_count": null,
   "id": "9b789a1c",
   "metadata": {},
   "outputs": [],
   "source": [
    "\n",
    "'''\n",
    "TO DO:\n",
    "\n",
    "* arguments\n",
    "    - artist\n",
    "    - max downloads: 30 songs\n",
    "    - option to type some words for prediction \n",
    "    - option: do you want to see the plot? \n",
    "    - \n",
    "\n",
    "\n",
    "\"\"\" Program to download lyrics\n",
    "\"\"\"\n",
    "\n",
    "import argparse\n",
    "\n",
    "parser = argparse.ArgumentParser(description = _doc_, epilog = 'some final remarks')\n",
    "\n",
    "parser.add_argument(\"artist\", help=\"Please enter the name of the artist. First letter capitalized\", type=str)\n",
    "parser.add_argument(\"number\", help=\"Enter the page to download lyrics from: ('https://www.lyrics.com')\", type=str)\n",
    "parser.add_argument(\"--like\", help=\"How do you like the artist at all?\")\n",
    "\n",
    "\n",
    "args = parser.parse_args()\n",
    "\n",
    "artist = args.artist\n",
    "n_songs = args.number[0]\n",
    "\n",
    "print(f\"{artist} created {n_songs} songs.\")\n",
    "\n",
    "'''"
   ]
  },
  {
   "cell_type": "markdown",
   "id": "4690beec",
   "metadata": {},
   "source": [
    "# Declare constants"
   ]
  },
  {
   "cell_type": "code",
   "execution_count": 680,
   "id": "118b9c01",
   "metadata": {},
   "outputs": [],
   "source": [
    "artist = 'Dido'"
   ]
  },
  {
   "cell_type": "code",
   "execution_count": 682,
   "id": "6ad8db3f",
   "metadata": {},
   "outputs": [],
   "source": [
    "url = (f'https://www.lyrics.com/artist/{artist}')"
   ]
  },
  {
   "cell_type": "code",
   "execution_count": 683,
   "id": "f5bd99c5",
   "metadata": {},
   "outputs": [
    {
     "data": {
      "text/plain": [
       "'https://www.lyrics.com/artist/Dido'"
      ]
     },
     "execution_count": 683,
     "metadata": {},
     "output_type": "execute_result"
    }
   ],
   "source": [
    "url"
   ]
  },
  {
   "cell_type": "code",
   "execution_count": 684,
   "id": "bd93900f",
   "metadata": {},
   "outputs": [],
   "source": [
    "lyric_url = 'https://www.lyrics.com'"
   ]
  },
  {
   "cell_type": "code",
   "execution_count": 685,
   "id": "1b7c47bd",
   "metadata": {},
   "outputs": [
    {
     "name": "stdout",
     "output_type": "stream",
     "text": [
      "/Users/ilonanietosvaara/Documents/Kurssit/spiced/spiced_projects/scikit-cilantro-student-code/week_04/project_w4\n"
     ]
    }
   ],
   "source": [
    "print(os.getcwd())\n",
    "parent_dir = os.getcwd()\n",
    "artist_path = (os.path.join(f'{parent_dir}/{artist.lower()}'))\n"
   ]
  },
  {
   "cell_type": "code",
   "execution_count": 686,
   "id": "46014b0d",
   "metadata": {},
   "outputs": [
    {
     "name": "stdout",
     "output_type": "stream",
     "text": [
      "/Users/ilonanietosvaara/Documents/Kurssit/spiced/spiced_projects/scikit-cilantro-student-code/week_04/project_w4/dido\n"
     ]
    }
   ],
   "source": [
    "print(artist_path)"
   ]
  },
  {
   "cell_type": "markdown",
   "id": "028c085f",
   "metadata": {},
   "source": [
    "# All functions"
   ]
  },
  {
   "cell_type": "markdown",
   "id": "1298d57a",
   "metadata": {},
   "source": [
    "#### Request html text from artist page"
   ]
  },
  {
   "cell_type": "code",
   "execution_count": 378,
   "id": "8fe4569d",
   "metadata": {},
   "outputs": [],
   "source": [
    "def html_request(link):\n",
    "    return urllib.request.urlopen(link).read()"
   ]
  },
  {
   "cell_type": "markdown",
   "id": "5bc15e4f",
   "metadata": {},
   "source": [
    "#### Parse all links from artist page html"
   ]
  },
  {
   "cell_type": "code",
   "execution_count": 379,
   "id": "84e3f53b",
   "metadata": {},
   "outputs": [],
   "source": [
    "def souptags(htmltext):\n",
    "    soup = bs(html, 'html.parser') \n",
    "    tags = soup('a')\n",
    "    for t in tags:\n",
    "        #print(t.get('href', None))\n",
    "        urls.append(t.get('href', None)) "
   ]
  },
  {
   "cell_type": "markdown",
   "id": "19ab8767",
   "metadata": {},
   "source": [
    "#### Filter out non-song lyric links"
   ]
  },
  {
   "cell_type": "code",
   "execution_count": 380,
   "id": "49c0b9a1",
   "metadata": {},
   "outputs": [],
   "source": [
    "def filter_songs(filt_regex, songlist):\n",
    "    return list(filter(re.compile(filt_regex).match, songlist))\n",
    "    "
   ]
  },
  {
   "cell_type": "markdown",
   "id": "15d43600",
   "metadata": {},
   "source": [
    "#### Create full link to each lyric link "
   ]
  },
  {
   "cell_type": "code",
   "execution_count": 381,
   "id": "297a5aec",
   "metadata": {},
   "outputs": [],
   "source": [
    "def songlinks(links):\n",
    "    for song in links:\n",
    "        song_links.append(lyric_url + song)\n",
    "        \n",
    "    return song_links"
   ]
  },
  {
   "cell_type": "markdown",
   "id": "692a7c30",
   "metadata": {},
   "source": [
    "#### Write all song links to a text file"
   ]
  },
  {
   "cell_type": "code",
   "execution_count": 382,
   "id": "b83345b4",
   "metadata": {},
   "outputs": [],
   "source": [
    "def songs_to_file(file, links):\n",
    "    with open(file, 'w') as f:\n",
    "        for counter, song in enumerate(links):\n",
    "            print(counter, song)\n",
    "            titles.append(song.split('/')[-1])\n",
    "            f.write(song+'\\n')"
   ]
  },
  {
   "cell_type": "markdown",
   "id": "1b485d55",
   "metadata": {},
   "source": [
    "#### Parse lyrics from each lyrics link html and save to separate text files"
   ]
  },
  {
   "cell_type": "code",
   "execution_count": 383,
   "id": "2b5b3dfe",
   "metadata": {},
   "outputs": [],
   "source": [
    "def links_to_list(links): \n",
    "    for counter, link in enumerate(links):\n",
    "        url = link\n",
    "        lyric_html = (urllib.request.urlopen(url).read())\n",
    "        soup_h = bs(lyric_html, 'html.parser')\n",
    "        lyric_clean = str([t.text for t in soup_h.find_all(attrs={'class': 'lyric-body'})])\n",
    "        song_title = link.split('/')[6]\n",
    "        with open(f'{artist_path}/{song_title}.txt', 'w') as f:\n",
    "            f.write(lyric_clean)\n",
    "        print(counter, song_title)"
   ]
  },
  {
   "cell_type": "markdown",
   "id": "2f7f9b9c",
   "metadata": {},
   "source": [
    "#### Append lyric text to corpus list var"
   ]
  },
  {
   "cell_type": "code",
   "execution_count": 384,
   "id": "04a024e4",
   "metadata": {},
   "outputs": [],
   "source": [
    "def lyrics_to_file(artist_path):\n",
    "    for fn in os.listdir(f'{artist_path}'):\n",
    "   # print(fn)\n",
    "        if 'txt' in fn:\n",
    "            text = open(f'{artist_path}/{fn}').read()\n",
    "            text = text.replace('\\\\n',' ') \n",
    "            text = text.replace('\\\\r',' ') \n",
    "            corpus.append(text)\n",
    "            titles.append(fn)\n",
    "        else:\n",
    "            print(f'==========={fn} is not a text file=================')"
   ]
  },
  {
   "cell_type": "markdown",
   "id": "b1644da5",
   "metadata": {},
   "source": [
    "#### Create dataframe out of the lyrics and titles"
   ]
  },
  {
   "cell_type": "code",
   "execution_count": 385,
   "id": "8cf3f752",
   "metadata": {},
   "outputs": [],
   "source": [
    "def make_dataframe(corpus, titles):\n",
    "    d = {'lyrics': corpus, 'title': titles}\n",
    "    df = pd.DataFrame(d)\n",
    "    df['artist'] = artist.lower()\n",
    "    df.to_csv(f'{artist}_songs.csv', sep='\\t')\n",
    "    return df"
   ]
  },
  {
   "cell_type": "markdown",
   "id": "92db19d6",
   "metadata": {},
   "source": [
    "#### Clean the string in lyrics and titles"
   ]
  },
  {
   "cell_type": "code",
   "execution_count": 1172,
   "id": "978713e5",
   "metadata": {},
   "outputs": [],
   "source": [
    "def cleaning(df):\n",
    "    df['lyrics'] = df['lyrics'].str.lower().str.replace('?', '').str.replace(\"(\", '').str.replace(')', '').str.replace(',', '').str.replace(\".\", '').str.replace(\"/.\", '').str.replace(\"*\", '').str.replace(\"!\", '').str.replace(\":\", '').str.replace(\";\", '').str.replace(\"&\", '').str.replace(\"-\", '').str.replace(\"/\", '').str.replace(\"\\\\\", '').str.replace(\"`\", '') \n",
    "    df['title'] = df['title'].str.lower().str.replace('\\n', ' ').str.replace('\\r', '').str.replace('\\'', '').str.replace('?', '').str.replace('+', ' ').str.replace(')', '').str.replace('%.+', '').str.replace('.txt', '')\n",
    "    #df['lyrics']= df['lyrics'].str.replace(\"'\", '', regex=True)\n",
    "    return df\n",
    "#.str.replace(\"/'\", '')"
   ]
  },
  {
   "cell_type": "markdown",
   "id": "aa812207",
   "metadata": {},
   "source": [
    "#### Drop duplicate songs by title"
   ]
  },
  {
   "cell_type": "code",
   "execution_count": 688,
   "id": "e453200a",
   "metadata": {},
   "outputs": [],
   "source": [
    "def drop_duplicate_songs(df):\n",
    "    df = df.drop_duplicates(subset='title', keep=\"first\")\n",
    "    df = df.reset_index(drop=True)\n",
    "    return df"
   ]
  },
  {
   "cell_type": "markdown",
   "id": "928a5941",
   "metadata": {},
   "source": [
    "#### Remove digits from the string"
   ]
  },
  {
   "cell_type": "code",
   "execution_count": 689,
   "id": "88750f1f",
   "metadata": {},
   "outputs": [],
   "source": [
    "def remove_digits(df):\n",
    "    df['lyrics'] = df['lyrics'].str.replace(r'[^\\D]+', '')\n",
    "    return df"
   ]
  },
  {
   "cell_type": "markdown",
   "id": "b2a0eeea",
   "metadata": {},
   "source": [
    "# All empty lists"
   ]
  },
  {
   "cell_type": "code",
   "execution_count": 79,
   "id": "f34503d8",
   "metadata": {},
   "outputs": [],
   "source": [
    "urls = []\n"
   ]
  },
  {
   "cell_type": "code",
   "execution_count": 80,
   "id": "5a6e3b08",
   "metadata": {},
   "outputs": [],
   "source": [
    "song_links = []"
   ]
  },
  {
   "cell_type": "code",
   "execution_count": 81,
   "id": "59fcc0c7",
   "metadata": {},
   "outputs": [],
   "source": [
    "songfile = f'{artist}songs.txt'\n",
    "titles = []"
   ]
  },
  {
   "cell_type": "code",
   "execution_count": 97,
   "id": "53b4544a",
   "metadata": {},
   "outputs": [],
   "source": [
    "corpus = []\n",
    "titles = []"
   ]
  },
  {
   "cell_type": "markdown",
   "id": "f53ae395",
   "metadata": {},
   "source": [
    "# Calling all functions\n"
   ]
  },
  {
   "cell_type": "code",
   "execution_count": 82,
   "id": "2014d463",
   "metadata": {},
   "outputs": [],
   "source": [
    "html = html_request(url)"
   ]
  },
  {
   "cell_type": "code",
   "execution_count": 84,
   "id": "25cc3de4",
   "metadata": {},
   "outputs": [],
   "source": [
    "souptags(html)"
   ]
  },
  {
   "cell_type": "code",
   "execution_count": 86,
   "id": "d0c83eec",
   "metadata": {},
   "outputs": [],
   "source": [
    "urls = filter_songs('^((?!version|live|Live|5D|Remix|Edit|Rehearsal).)*$', urls)\n",
    "urls = filter_songs(f\"/lyric/\\d+/{artist}/.+\", urls)"
   ]
  },
  {
   "cell_type": "code",
   "execution_count": 88,
   "id": "aec5cba6",
   "metadata": {},
   "outputs": [],
   "source": [
    "song_links = songlinks(urls)"
   ]
  },
  {
   "cell_type": "code",
   "execution_count": 89,
   "id": "06b48497",
   "metadata": {},
   "outputs": [
    {
     "name": "stdout",
     "output_type": "stream",
     "text": [
      "0 https://www.lyrics.com/lyric/36604185/Dido/Just+Because\n",
      "1 https://www.lyrics.com/lyric/36341926/Dido/7+Seconds\n",
      "2 https://www.lyrics.com/lyric/36262718/Dido/Hurricanes\n",
      "3 https://www.lyrics.com/lyric/35955572/Dido/Give+You+Up\n",
      "4 https://www.lyrics.com/lyric/35955571/Dido/Hell+After+This\n",
      "5 https://www.lyrics.com/lyric/35955570/Dido/You+Don%27t+Need+a+God\n",
      "6 https://www.lyrics.com/lyric/35955569/Dido/Take+You+Home\n",
      "7 https://www.lyrics.com/lyric/35955568/Dido/Some+Kind+of+Love\n",
      "8 https://www.lyrics.com/lyric/35955567/Dido/Still+on+My+Mind\n",
      "9 https://www.lyrics.com/lyric/35955566/Dido/Mad+Love\n",
      "10 https://www.lyrics.com/lyric/35955565/Dido/Walking+By\n",
      "11 https://www.lyrics.com/lyric/35955564/Dido/Friends\n",
      "12 https://www.lyrics.com/lyric/35955563/Dido/Chances\n",
      "13 https://www.lyrics.com/lyric/35955562/Dido/Have+to+Stay\n",
      "14 https://www.lyrics.com/lyric/35027802/Dido/Life+for+Rent\n",
      "15 https://www.lyrics.com/lyric/35805563/Dido/Christmas+Day\n",
      "16 https://www.lyrics.com/lyric/34870533/Dido/Here+With+Me\n",
      "17 https://www.lyrics.com/lyric/35088422/Dido/Sand+in+My+Shoes\n",
      "18 https://www.lyrics.com/lyric/34033749/Dido/Here+With+Me\n",
      "19 https://www.lyrics.com/lyric/34547300/Dido/Here+With+Me\n",
      "20 https://www.lyrics.com/lyric/33706084/Dido/Here+With+Me\n",
      "21 https://www.lyrics.com/lyric/34697598/Dido/Christmas+Day\n",
      "22 https://www.lyrics.com/lyric/34126233/Dido/White+Flag\n",
      "23 https://www.lyrics.com/lyric/34691261/Dido/Beside+the+Sea\n",
      "24 https://www.lyrics.com/lyric/32896819/Dido/Thank+You\n",
      "25 https://www.lyrics.com/lyric/32877442/Dido/Thank+You\n",
      "26 https://www.lyrics.com/lyric/33573770/Dido/Christmas+Day\n",
      "27 https://www.lyrics.com/lyric/32171436/Dido/One+Step+Too+Far\n",
      "28 https://www.lyrics.com/lyric/32171432/Dido/Feelin%27+Good\n",
      "29 https://www.lyrics.com/lyric/31703385/Dido/Thank+You\n",
      "30 https://www.lyrics.com/lyric/31829163/Dido/Thank+You\n",
      "31 https://www.lyrics.com/lyric/31852519/Dido/Here+with+Me\n",
      "32 https://www.lyrics.com/lyric/32543236/Dido/Christmas+Day\n",
      "33 https://www.lyrics.com/lyric/32543308/Dido/Christmas+Day\n",
      "34 https://www.lyrics.com/lyric/32198591/Dido/Christmas+Day\n",
      "35 https://www.lyrics.com/lyric/32416938/Dido/Stan\n",
      "36 https://www.lyrics.com/lyric/30460209/Dido/White+Flag\n",
      "37 https://www.lyrics.com/lyric/30695982/Dido/Thank+You\n",
      "38 https://www.lyrics.com/lyric/31091522/Dido/White+Flag\n",
      "39 https://www.lyrics.com/lyric/31086368/Dido/White+Flag\n",
      "40 https://www.lyrics.com/lyric/30817963/Dido/White+Flag\n",
      "41 https://www.lyrics.com/lyric/30722618/Dido/Thank+You\n",
      "42 https://www.lyrics.com/lyric/31086150/Dido/White+Flag\n",
      "43 https://www.lyrics.com/lyric/28600036/Dido/No+Freedom\n",
      "44 https://www.lyrics.com/lyric/28600035/Dido/Girl+Who+Got+Away\n",
      "45 https://www.lyrics.com/lyric/28600034/Dido/Let+Us+Move+On\n",
      "46 https://www.lyrics.com/lyric/28600033/Dido/Blackbird\n",
      "47 https://www.lyrics.com/lyric/28600032/Dido/End+of+Night\n",
      "48 https://www.lyrics.com/lyric/28600042/Dido/Sitting+on+the+Roof+of+the+World\n",
      "49 https://www.lyrics.com/lyric/28600041/Dido/Love+to+Blame\n",
      "50 https://www.lyrics.com/lyric/28600040/Dido/Go+Dreaming\n",
      "51 https://www.lyrics.com/lyric/28600039/Dido/Happy+New+Year\n",
      "52 https://www.lyrics.com/lyric/28600038/Dido/Loveless+Hearts\n",
      "53 https://www.lyrics.com/lyric/28600037/Dido/Day+Before+We+Went+to+War\n",
      "54 https://www.lyrics.com/lyric/28599953/Dido/No+Freedom\n",
      "55 https://www.lyrics.com/lyric/28599952/Dido/Girl+Who+Got+Away\n",
      "56 https://www.lyrics.com/lyric/28599951/Dido/Let+Us+Move+On\n",
      "57 https://www.lyrics.com/lyric/28599950/Dido/Blackbird\n",
      "58 https://www.lyrics.com/lyric/28599949/Dido/End+of+Night\n",
      "59 https://www.lyrics.com/lyric/28599948/Dido/Sitting+on+the+Roof+of+the+World\n",
      "60 https://www.lyrics.com/lyric/28599947/Dido/Love+to+Blame\n",
      "61 https://www.lyrics.com/lyric/28599946/Dido/Go+Dreaming\n",
      "62 https://www.lyrics.com/lyric/28599945/Dido/Happy+New+Year\n",
      "63 https://www.lyrics.com/lyric/28599944/Dido/Loveless+Hearts\n",
      "64 https://www.lyrics.com/lyric/28599943/Dido/Day+Before+We+Went+to+War\n",
      "65 https://www.lyrics.com/lyric/28599941/Dido/All+I+See\n",
      "66 https://www.lyrics.com/lyric/28599940/Dido/Just+Say+Yes\n",
      "67 https://www.lyrics.com/lyric/28599939/Dido/Let%27s+Runaway\n",
      "68 https://www.lyrics.com/lyric/28599937/Dido/Lost\n",
      "69 https://www.lyrics.com/lyric/30089994/Dido/Here+with+Me\n",
      "70 https://www.lyrics.com/lyric/30089993/Dido/Thank+You\n",
      "71 https://www.lyrics.com/lyric/30089992/Dido/Hunter\n",
      "72 https://www.lyrics.com/lyric/30089991/Dido/White+Flag\n",
      "73 https://www.lyrics.com/lyric/30089990/Dido/Life+for+Rent\n",
      "74 https://www.lyrics.com/lyric/30089989/Dido/Don%27t+Leave+Home\n",
      "75 https://www.lyrics.com/lyric/30089988/Dido/Sand+in+My+Shoes\n",
      "76 https://www.lyrics.com/lyric/30089987/Dido/Don%27t+Believe+in+Love\n",
      "77 https://www.lyrics.com/lyric/30089986/Dido/Quiet+Times\n",
      "78 https://www.lyrics.com/lyric/30089985/Dido/Grafton+Street\n",
      "79 https://www.lyrics.com/lyric/30089984/Dido/Everything+to+Lose\n",
      "80 https://www.lyrics.com/lyric/30089983/Dido/Let+Us+Move+On\n",
      "81 https://www.lyrics.com/lyric/30089982/Dido/No+Freedom\n",
      "82 https://www.lyrics.com/lyric/30089981/Dido/End+of+Night\n",
      "83 https://www.lyrics.com/lyric/30089979/Dido/Stan\n",
      "84 https://www.lyrics.com/lyric/30089977/Dido/NYC\n",
      "85 https://www.lyrics.com/lyric/30164259/Dido/Here+With+Me\n",
      "86 https://www.lyrics.com/lyric/30164257/Dido/Hunter\n",
      "87 https://www.lyrics.com/lyric/30164256/Dido/White+Flag\n",
      "88 https://www.lyrics.com/lyric/30164247/Dido/Life+For+Rent\n",
      "89 https://www.lyrics.com/lyric/30164246/Dido/Don%27t+Leave+Home\n",
      "90 https://www.lyrics.com/lyric/30164245/Dido/Sand+In+My+Shoes\n",
      "91 https://www.lyrics.com/lyric/30164244/Dido/Don%27t+Believe+In+Love\n",
      "92 https://www.lyrics.com/lyric/30164243/Dido/Quiet+Times\n",
      "93 https://www.lyrics.com/lyric/30164242/Dido/Grafton+Street\n",
      "94 https://www.lyrics.com/lyric/30164254/Dido/Everything+To+Lose\n",
      "95 https://www.lyrics.com/lyric/30164249/Dido/Stan\n",
      "96 https://www.lyrics.com/lyric/30164255/Dido/NYC\n",
      "97 https://www.lyrics.com/lyric/29608926/Dido/No+Freedom\n",
      "98 https://www.lyrics.com/lyric/26607302/Dido/A+Linha+E+O+Linho\n",
      "99 https://www.lyrics.com/lyric/26607294/Dido/Drao\n",
      "100 https://www.lyrics.com/lyric/26847295/Dido/New+York\n",
      "101 https://www.lyrics.com/lyric/26847330/Dido/White+Flag\n",
      "102 https://www.lyrics.com/lyric/28398125/Dido/Here+with+Me\n",
      "103 https://www.lyrics.com/lyric/25615776/Dido/White+Flag\n",
      "104 https://www.lyrics.com/lyric/27486131/Dido/Worthless\n",
      "105 https://www.lyrics.com/lyric/23347707/Dido/Thank+You\n",
      "106 https://www.lyrics.com/lyric/23412273/Dido/One+Step+Too+Far\n",
      "107 https://www.lyrics.com/lyric/25654417/Dido/Thank+You\n",
      "108 https://www.lyrics.com/lyric/24692006/Dido/White+Flag\n",
      "109 https://www.lyrics.com/lyric/23793142/Dido/Sand+In+My+Shoes\n",
      "110 https://www.lyrics.com/lyric/23786707/Dido/Here+With+Me\n",
      "111 https://www.lyrics.com/lyric/24836117/Dido/Here+With+Me\n",
      "112 https://www.lyrics.com/lyric/22297003/Dido/If+I+Rise\n",
      "113 https://www.lyrics.com/lyric/21979022/Dido/White+Flag\n",
      "114 https://www.lyrics.com/lyric/21177773/Dido/Here+with+Me\n",
      "115 https://www.lyrics.com/lyric/22746864/Dido/My+Life\n",
      "116 https://www.lyrics.com/lyric/22664558/Dido/Everything+to+Lose\n",
      "117 https://www.lyrics.com/lyric/18913686/Dido/Here+with+Me\n",
      "118 https://www.lyrics.com/lyric/22295538/Dido/Christmas+Day\n",
      "119 https://www.lyrics.com/lyric/19538669/Dido/Here+with+Me\n",
      "120 https://www.lyrics.com/lyric/19597443/Dido/Everything+to+Lose\n",
      "121 https://www.lyrics.com/lyric/32605513/Dido/Everything+to+Lose\n",
      "122 https://www.lyrics.com/lyric/19614309/Dido/Feelin+Good\n",
      "123 https://www.lyrics.com/lyric/19614308/Dido/North+Star\n",
      "124 https://www.lyrics.com/lyric/22288678/Dido/Here+with+Me\n",
      "125 https://www.lyrics.com/lyric/22243160/Dido/Here+with+Me\n",
      "126 https://www.lyrics.com/lyric/21050769/Dido/One+Step+Too+Far\n",
      "127 https://www.lyrics.com/lyric/18494737/Dido/Here+with+Me\n",
      "128 https://www.lyrics.com/lyric/20998704/Dido/Here+with+Me\n",
      "129 https://www.lyrics.com/lyric/26936384/Dido/Sing\n",
      "130 https://www.lyrics.com/lyric/17881471/Dido/Christmas+Day\n",
      "131 https://www.lyrics.com/lyric/16440333/Dido/Thank+You\n",
      "132 https://www.lyrics.com/lyric/18415717/Dido/Here+with+Me\n",
      "133 https://www.lyrics.com/lyric/14934008/Dido/Here+with+Me\n",
      "134 https://www.lyrics.com/lyric/16526780/Dido/Thank+You\n",
      "135 https://www.lyrics.com/lyric/18059716/Dido/Thank+You\n",
      "136 https://www.lyrics.com/lyric/15488444/Dido/One+Step+Too+Far\n",
      "137 https://www.lyrics.com/lyric/13998047/Dido/White+Flag\n",
      "138 https://www.lyrics.com/lyric/16318965/Dido/White+Flag\n",
      "139 https://www.lyrics.com/lyric/14759511/Dido/Sand+in+My+Shoes\n",
      "140 https://www.lyrics.com/lyric/31792019/Dido/Don%27t+Believe+in+Love\n",
      "141 https://www.lyrics.com/lyric/31792018/Dido/Quiet+Times\n",
      "142 https://www.lyrics.com/lyric/31792017/Dido/Never+Want+to+Say+It%27s+Love\n",
      "143 https://www.lyrics.com/lyric/31792016/Dido/Grafton+Street\n",
      "144 https://www.lyrics.com/lyric/31792015/Dido/It+Comes+and+It+Goes\n",
      "145 https://www.lyrics.com/lyric/31792014/Dido/Look+No+Further\n",
      "146 https://www.lyrics.com/lyric/31792013/Dido/Us+2+Little+Gods\n",
      "147 https://www.lyrics.com/lyric/31792012/Dido/The+Day+Before+the+Day\n",
      "148 https://www.lyrics.com/lyric/30939663/Dido/Day+Before+The+Day\n",
      "149 https://www.lyrics.com/lyric/31792011/Dido/Let%27s+Do+the+Things+We+Normally+Do\n",
      "150 https://www.lyrics.com/lyric/15143014/Dido/Burnin+Love\n",
      "151 https://www.lyrics.com/lyric/31792009/Dido/Northern+Skies\n",
      "152 https://www.lyrics.com/lyric/31791911/Dido/Don%27t+Believe+in+Love\n",
      "153 https://www.lyrics.com/lyric/31791910/Dido/Quiet+Times\n",
      "154 https://www.lyrics.com/lyric/31791909/Dido/Never+Want+to+Say+It%27s+Love\n",
      "155 https://www.lyrics.com/lyric/31791908/Dido/Grafton+Street\n",
      "156 https://www.lyrics.com/lyric/31791907/Dido/It+Comes+and+It+Goes\n",
      "157 https://www.lyrics.com/lyric/31791906/Dido/Look+No+Further\n",
      "158 https://www.lyrics.com/lyric/31791905/Dido/Us+2+Little+Gods\n",
      "159 https://www.lyrics.com/lyric/31791904/Dido/The+Day+Before+the+Day\n",
      "160 https://www.lyrics.com/lyric/31791903/Dido/Let%27s+Do+the+Things+We+Normally+Do\n",
      "161 https://www.lyrics.com/lyric/15179118/Dido/Burnin+Love\n",
      "162 https://www.lyrics.com/lyric/31791901/Dido/Northern+Skies\n",
      "163 https://www.lyrics.com/lyric/16178712/Dido/Thank+You\n",
      "164 https://www.lyrics.com/lyric/14254784/Dido/Thank+You\n",
      "165 https://www.lyrics.com/lyric/12767828/Dido/Thank+You\n",
      "166 https://www.lyrics.com/lyric/10236919/Dido/Here+With+Me\n",
      "167 https://www.lyrics.com/lyric/11928171/Dido/Worthless\n",
      "168 https://www.lyrics.com/lyric/24376289/Dido/Stan\n",
      "169 https://www.lyrics.com/lyric/14655550/Dido/Sand+in+My+Shoes\n",
      "170 https://www.lyrics.com/lyric/14748913/Dido/Sand+in+My+Shoes\n",
      "171 https://www.lyrics.com/lyric/13121713/Dido/Here+with+Me\n",
      "172 https://www.lyrics.com/lyric/13474968/Dido/One+Step+Too+Far\n",
      "173 https://www.lyrics.com/lyric/10497314/Dido/Here+with+Me\n",
      "174 https://www.lyrics.com/lyric/10235907/Dido/White+Flag\n",
      "175 https://www.lyrics.com/lyric/9709353/Dido/White+Flag\n",
      "176 https://www.lyrics.com/lyric/11681402/Dido/Thanks+to+You\n",
      "177 https://www.lyrics.com/lyric/33775916/Dido/White+Flag\n",
      "178 https://www.lyrics.com/lyric/14735240/Dido/Thank+You\n",
      "179 https://www.lyrics.com/lyric/35113866/Dido/White+Flag\n",
      "180 https://www.lyrics.com/lyric/9956907/Dido/Life+for+Rent\n",
      "181 https://www.lyrics.com/lyric/10482831/Dido/Thank+You\n",
      "182 https://www.lyrics.com/lyric/16221501/Dido/Thank+You\n",
      "183 https://www.lyrics.com/lyric/16235229/Dido/Thank+You\n",
      "184 https://www.lyrics.com/lyric/14735503/Dido/White+Flag\n",
      "185 https://www.lyrics.com/lyric/14735520/Dido/Thank+You\n",
      "186 https://www.lyrics.com/lyric/8728666/Dido/One+Step+Too+Far\n",
      "187 https://www.lyrics.com/lyric/9075901/Dido/Worthless\n",
      "188 https://www.lyrics.com/lyric/9811298/Dido/One+Step+Too+Far\n",
      "189 https://www.lyrics.com/lyric/14744579/Dido/One+Step+Too+Far\n",
      "190 https://www.lyrics.com/lyric/9923743/Dido/Last+This+Day\n",
      "191 https://www.lyrics.com/lyric/29608620/Dido/Last+This+Day\n",
      "192 https://www.lyrics.com/lyric/16224810/Dido/White+Flag\n",
      "193 https://www.lyrics.com/lyric/8875283/Dido/Thank+You\n",
      "194 https://www.lyrics.com/lyric/9730359/Dido/Thank+You\n",
      "195 https://www.lyrics.com/lyric/16225537/Dido/Thank+You\n",
      "196 https://www.lyrics.com/lyric/15754867/Dido/Thank+You\n",
      "197 https://www.lyrics.com/lyric/16224955/Dido/Thank+You\n",
      "198 https://www.lyrics.com/lyric/7632249/Dido/Here+with+Me\n",
      "199 https://www.lyrics.com/lyric/8467885/Dido/Thank+You\n",
      "200 https://www.lyrics.com/lyric/10456835/Dido/White+Flag\n",
      "201 https://www.lyrics.com/lyric/12879595/Dido/Don%27t+Leave+Home\n",
      "202 https://www.lyrics.com/lyric/7656114/Dido/Sand+in+My+Shoes\n",
      "203 https://www.lyrics.com/lyric/8167769/Dido/Sand+in+My+Shoes\n",
      "204 https://www.lyrics.com/lyric/18338750/Dido/White+Flag\n",
      "205 https://www.lyrics.com/lyric/27137064/Dido/Stan\n",
      "206 https://www.lyrics.com/lyric/8534879/Dido/Stan\n",
      "207 https://www.lyrics.com/lyric/8541195/Dido/Stan\n",
      "208 https://www.lyrics.com/lyric/8122112/Dido/Stoned\n",
      "209 https://www.lyrics.com/lyric/8122113/Dido/Here+with+Me\n",
      "210 https://www.lyrics.com/lyric/8122114/Dido/See+You+When+You%27re+40\n",
      "211 https://www.lyrics.com/lyric/8122115/Dido/Life+for+Rent\n",
      "212 https://www.lyrics.com/lyric/8122116/Dido/Isobel\n",
      "213 https://www.lyrics.com/lyric/8122117/Dido/Honestly+OK\n",
      "214 https://www.lyrics.com/lyric/8122118/Dido/Take+My+Hand\n",
      "215 https://www.lyrics.com/lyric/8122119/Dido/Thank+You\n",
      "216 https://www.lyrics.com/lyric/8122120/Dido/Mary%27s+in+India\n",
      "217 https://www.lyrics.com/lyric/8122121/Dido/Sand+in+My+Shoes\n",
      "218 https://www.lyrics.com/lyric/8122122/Dido/White+Flag\n",
      "219 https://www.lyrics.com/lyric/8122123/Dido/See+the+Sun\n",
      "220 https://www.lyrics.com/lyric/8465940/Dido/White+Flag\n",
      "221 https://www.lyrics.com/lyric/10390343/Dido/Here+with+Me\n",
      "222 https://www.lyrics.com/lyric/19533203/Dido/One+Step+Too+Far\n",
      "223 https://www.lyrics.com/lyric/8105448/Dido/One+Step+Too+Far\n",
      "224 https://www.lyrics.com/lyric/25362543/Dido/One+Step+Too+Far\n",
      "225 https://www.lyrics.com/lyric/8133207/Dido/Sand+in+My+Shoes\n",
      "226 https://www.lyrics.com/lyric/18374943/Dido/Here+with+Me\n",
      "227 https://www.lyrics.com/lyric/8577032/Dido/Thank+You\n",
      "228 https://www.lyrics.com/lyric/16268237/Dido/Stoned\n",
      "229 https://www.lyrics.com/lyric/16268238/Dido/Here+with+Me\n",
      "230 https://www.lyrics.com/lyric/16268239/Dido/See+You+When+You%27re+40\n",
      "231 https://www.lyrics.com/lyric/16268240/Dido/Life+for+Rent\n",
      "232 https://www.lyrics.com/lyric/16268241/Dido/Isobel\n",
      "233 https://www.lyrics.com/lyric/16268242/Dido/Honestly+OK\n",
      "234 https://www.lyrics.com/lyric/16268243/Dido/Take+My+Hand\n",
      "235 https://www.lyrics.com/lyric/16268244/Dido/Thank+You\n",
      "236 https://www.lyrics.com/lyric/16268245/Dido/Mary%27s+in+India\n",
      "237 https://www.lyrics.com/lyric/16268246/Dido/Sand+in+My+Shoes\n",
      "238 https://www.lyrics.com/lyric/16268247/Dido/White+Flag\n",
      "239 https://www.lyrics.com/lyric/16268248/Dido/See+the+Sun\n",
      "240 https://www.lyrics.com/lyric/7505000/Dido/Thank+You\n",
      "241 https://www.lyrics.com/lyric/7645456/Dido/Life+for+Rent\n",
      "242 https://www.lyrics.com/lyric/9617929/Dido/Thank+You\n",
      "243 https://www.lyrics.com/lyric/8499899/Dido/Here+with+Me\n",
      "244 https://www.lyrics.com/lyric/10457452/Dido/Thank+You\n",
      "245 https://www.lyrics.com/lyric/9606162/Dido/White+Flag\n",
      "246 https://www.lyrics.com/lyric/8469200/Dido/Thank+You\n",
      "247 https://www.lyrics.com/lyric/8326574/Dido/White+Flag\n",
      "248 https://www.lyrics.com/lyric/13592870/Dido/Here+with+Me\n",
      "249 https://www.lyrics.com/lyric/9842524/Dido/Here+with+Me\n",
      "250 https://www.lyrics.com/lyric/14030807/Dido/Life+for+Rent\n",
      "251 https://www.lyrics.com/lyric/7627278/Dido/Thank+You\n",
      "252 https://www.lyrics.com/lyric/7098051/Dido/Thank+You\n",
      "253 https://www.lyrics.com/lyric/10416891/Dido/White+Flag\n",
      "254 https://www.lyrics.com/lyric/7347492/Dido/I+Eat+Dinner+%28When+the+Hunger%27s+Gone%29\n",
      "255 https://www.lyrics.com/lyric/7436602/Dido/I+Eat+Dinner+%28When+the+Hunger%27s+Gone%29\n",
      "256 https://www.lyrics.com/lyric/25975955/Dido/I+Eat+Dinner+%28When+the+Hunger%27s+Gone%29\n",
      "257 https://www.lyrics.com/lyric/19223247/Dido/Don%27t+Leave+Home\n",
      "258 https://www.lyrics.com/lyric/21103616/Dido/One+Step+Too+Far\n",
      "259 https://www.lyrics.com/lyric/26546480/Dido/Don%27t+Leave+Home\n",
      "260 https://www.lyrics.com/lyric/14698881/Dido/Don%27t+Leave+Home\n",
      "261 https://www.lyrics.com/lyric/6942744/Dido/Thank+You\n",
      "262 https://www.lyrics.com/lyric/7048846/Dido/White+Flag\n",
      "263 https://www.lyrics.com/lyric/7068640/Dido/White+Flag\n",
      "264 https://www.lyrics.com/lyric/6753594/Dido/Thank+You\n",
      "265 https://www.lyrics.com/lyric/6841230/Dido/Here+with+Me\n",
      "266 https://www.lyrics.com/lyric/8188254/Dido/White+Flag\n",
      "267 https://www.lyrics.com/lyric/6987046/Dido/White+Flag\n",
      "268 https://www.lyrics.com/lyric/7278595/Dido/Christmas+Day\n",
      "269 https://www.lyrics.com/lyric/6976958/Dido/Thank+You\n",
      "270 https://www.lyrics.com/lyric/9883264/Dido/Here+with+Me\n",
      "271 https://www.lyrics.com/lyric/15303155/Dido/White+Flag\n",
      "272 https://www.lyrics.com/lyric/7266277/Dido/Christmas+Day\n",
      "273 https://www.lyrics.com/lyric/13965791/Dido/White+Flag\n",
      "274 https://www.lyrics.com/lyric/6306343/Dido/Here+with+Me\n",
      "275 https://www.lyrics.com/lyric/18373347/Dido/Thank+You\n",
      "276 https://www.lyrics.com/lyric/14038742/Dido/Thank+You\n",
      "277 https://www.lyrics.com/lyric/31803102/Dido/White+Flag\n",
      "278 https://www.lyrics.com/lyric/31803100/Dido/Stoned\n",
      "279 https://www.lyrics.com/lyric/31803099/Dido/Life+for+Rent\n",
      "280 https://www.lyrics.com/lyric/31803098/Dido/Mary%27s+in+India\n",
      "281 https://www.lyrics.com/lyric/31803103/Dido/See+You+When+You%27re+40\n",
      "282 https://www.lyrics.com/lyric/31803097/Dido/Don%27t+Leave+Home\n",
      "283 https://www.lyrics.com/lyric/31803105/Dido/Who+Makes+You+Feel\n",
      "284 https://www.lyrics.com/lyric/31803104/Dido/Sand+in+My+Shoes\n",
      "285 https://www.lyrics.com/lyric/31803094/Dido/Do+You+Have+a+Little+Time\n",
      "286 https://www.lyrics.com/lyric/31803095/Dido/This+Land+is+Mine\n",
      "287 https://www.lyrics.com/lyric/31803101/Dido/See+the+Sun\n",
      "288 https://www.lyrics.com/lyric/6654048/Dido/Here+with+Me\n",
      "289 https://www.lyrics.com/lyric/9040623/Dido/Here+with+Me\n",
      "290 https://www.lyrics.com/lyric/10330071/Dido/Here+with+Me\n",
      "291 https://www.lyrics.com/lyric/27543237/Dido/Here+With+Me\n",
      "292 https://www.lyrics.com/lyric/32492160/Dido/Here+with+Me\n",
      "293 https://www.lyrics.com/lyric/15816914/Dido/Thank+You\n",
      "294 https://www.lyrics.com/lyric/6301916/Dido/Dub+Be+Good+to+Me\n",
      "295 https://www.lyrics.com/lyric/6382368/Dido/Christmas+Day\n",
      "296 https://www.lyrics.com/lyric/6560570/Dido/Thank+You\n",
      "297 https://www.lyrics.com/lyric/6293553/Dido/Thank+You\n",
      "298 https://www.lyrics.com/lyric/8961837/Dido/Here+with+Me\n",
      "299 https://www.lyrics.com/lyric/16011609/Dido/Thank+You\n",
      "300 https://www.lyrics.com/lyric/16025761/Dido/Thank+You\n",
      "301 https://www.lyrics.com/lyric/6423684/Dido/Here+with+Me\n",
      "302 https://www.lyrics.com/lyric/6891431/Dido/Here+with+Me\n",
      "303 https://www.lyrics.com/lyric/9882741/Dido/White+Flag\n",
      "304 https://www.lyrics.com/lyric/9882742/Dido/Paris\n",
      "305 https://www.lyrics.com/lyric/5507434/Dido/Thank+You\n",
      "306 https://www.lyrics.com/lyric/5483299/Dido/Hunter\n",
      "307 https://www.lyrics.com/lyric/5674406/Dido/Thank+You\n",
      "308 https://www.lyrics.com/lyric/14302514/Dido/Worthless\n",
      "309 https://www.lyrics.com/lyric/18303412/Dido/Thank+You\n",
      "310 https://www.lyrics.com/lyric/5701717/Dido/Here+with+Me\n",
      "311 https://www.lyrics.com/lyric/5470831/Dido/Thank+You\n",
      "312 https://www.lyrics.com/lyric/5884118/Dido/Thank+You\n",
      "313 https://www.lyrics.com/lyric/10369277/Dido/Stan\n",
      "314 https://www.lyrics.com/lyric/5806986/Dido/Here+with+Me+%28Theme+from+%22Roswell%22%29\n",
      "315 https://www.lyrics.com/lyric/6600724/Dido/Stan\n",
      "316 https://www.lyrics.com/lyric/5567567/Dido/Thank+You\n",
      "317 https://www.lyrics.com/lyric/5745730/Dido/Thank+You\n",
      "318 https://www.lyrics.com/lyric/16700157/Dido/Here+with+Me\n",
      "319 https://www.lyrics.com/lyric/5576555/Dido/My+Lover%27s+Gone\n",
      "320 https://www.lyrics.com/lyric/5942646/Dido/Hunter\n",
      "321 https://www.lyrics.com/lyric/18328082/Dido/Hunter\n",
      "322 https://www.lyrics.com/lyric/23396578/Dido/Here+With+Me\n",
      "323 https://www.lyrics.com/lyric/30483893/Dido/Feels+Like+Fire\n",
      "324 https://www.lyrics.com/lyric/6712516/Dido/Feels+Like+Fire\n",
      "325 https://www.lyrics.com/lyric/10372885/Dido/Feels+Like+Fire\n",
      "326 https://www.lyrics.com/lyric/5485004/Dido/Here+with+Me\n",
      "327 https://www.lyrics.com/lyric/15539744/Dido/Don%27t+Think+of+Me\n",
      "328 https://www.lyrics.com/lyric/5715463/Dido/Stan\n",
      "329 https://www.lyrics.com/lyric/13924809/Dido/Thank+You\n",
      "330 https://www.lyrics.com/lyric/5369956/Dido/Here+with+Me\n",
      "331 https://www.lyrics.com/lyric/35424707/Dido/Christmas+Day\n",
      "332 https://www.lyrics.com/lyric/5175282/Dido/Christmas+Day\n",
      "333 https://www.lyrics.com/lyric/14641377/Dido/Thank+You\n",
      "334 https://www.lyrics.com/lyric/14262712/Dido/Here+with+Me\n",
      "335 https://www.lyrics.com/lyric/14640563/Dido/Hunter\n",
      "336 https://www.lyrics.com/lyric/14441754/Dido/Thank+You\n",
      "337 https://www.lyrics.com/lyric/4471733/Dido/My+Life\n",
      "338 https://www.lyrics.com/lyric/31744837/Dido/My+Life\n",
      "339 https://www.lyrics.com/lyric/27169738/Dido/Worthless\n",
      "340 https://www.lyrics.com/lyric/21103579/Dido/Worthless\n",
      "341 https://www.lyrics.com/lyric/5083522/Dido/Take+My+Hand\n",
      "342 https://www.lyrics.com/lyric/4941963/Dido/Here+with+Me\n",
      "343 https://www.lyrics.com/lyric/26982898/Dido/Stan\n",
      "344 https://www.lyrics.com/lyric/5983890/Dido/Hunter\n",
      "345 https://www.lyrics.com/lyric/5352435/Dido/Thank+You\n",
      "346 https://www.lyrics.com/lyric/8288272/Dido/Thank+You\n",
      "347 https://www.lyrics.com/lyric/4889913/Dido/One+Step+Too+Far\n",
      "348 https://www.lyrics.com/lyric/7708484/Dido/One+Step+Too+Far\n",
      "349 https://www.lyrics.com/lyric/10511039/Dido/Stan\n",
      "350 https://www.lyrics.com/lyric/8188291/Dido/Thank+You\n",
      "351 https://www.lyrics.com/lyric/5132835/Dido/Here+with+Me\n",
      "352 https://www.lyrics.com/lyric/5203925/Dido/Thank+You\n",
      "353 https://www.lyrics.com/lyric/5089047/Dido/Thank+You\n",
      "354 https://www.lyrics.com/lyric/13987241/Dido/Thank+You\n",
      "355 https://www.lyrics.com/lyric/15303531/Dido/Stan\n",
      "356 https://www.lyrics.com/lyric/4115270/Dido/Thank+You\n",
      "357 https://www.lyrics.com/lyric/16831207/Dido/Stan\n",
      "358 https://www.lyrics.com/lyric/4312418/Dido/Here+with+Me\n",
      "359 https://www.lyrics.com/lyric/4301182/Dido/Christmas+Day\n",
      "360 https://www.lyrics.com/lyric/6824523/Dido/Stan\n",
      "361 https://www.lyrics.com/lyric/14442601/Dido/Stan\n",
      "362 https://www.lyrics.com/lyric/14442614/Dido/Here+with+Me\n",
      "363 https://www.lyrics.com/lyric/19431129/Dido/Stan\n",
      "364 https://www.lyrics.com/lyric/27847061/Dido/Stan\n",
      "365 https://www.lyrics.com/lyric/4298811/Dido/Christmas+Day\n",
      "366 https://www.lyrics.com/lyric/27168404/Dido/Stan\n",
      "367 https://www.lyrics.com/lyric/6179953/Dido/Stan\n",
      "368 https://www.lyrics.com/lyric/14583804/Dido/Stan\n",
      "369 https://www.lyrics.com/lyric/26289621/Dido/Stan\n",
      "370 https://www.lyrics.com/lyric/5360715/Dido/Stan\n",
      "371 https://www.lyrics.com/lyric/14379044/Dido/Stan\n",
      "372 https://www.lyrics.com/lyric/4305649/Dido/Here+with+Me\n",
      "373 https://www.lyrics.com/lyric/13939008/Dido/Here+with+Me\n",
      "374 https://www.lyrics.com/lyric/8171376/Dido/Here+with+Me\n",
      "375 https://www.lyrics.com/lyric/5948765/Dido/Here+with+Me\n",
      "376 https://www.lyrics.com/lyric/30293579/Dido/Here+with+Me\n",
      "377 https://www.lyrics.com/lyric/30293578/Dido/Hunter\n",
      "378 https://www.lyrics.com/lyric/30293577/Dido/Don%27t+Think+of+Me\n",
      "379 https://www.lyrics.com/lyric/30293576/Dido/My+Lover%27s+Gone\n",
      "380 https://www.lyrics.com/lyric/30293575/Dido/All+You+Want\n",
      "381 https://www.lyrics.com/lyric/30293574/Dido/Thankyou\n",
      "382 https://www.lyrics.com/lyric/26607230/Dido/Thank+You\n",
      "383 https://www.lyrics.com/lyric/30293573/Dido/Honestly+OK\n",
      "384 https://www.lyrics.com/lyric/30293572/Dido/Slide\n",
      "385 https://www.lyrics.com/lyric/30293571/Dido/Isobel\n",
      "386 https://www.lyrics.com/lyric/30293570/Dido/I%27m+No+Angel\n",
      "387 https://www.lyrics.com/lyric/30293569/Dido/My+Life\n",
      "388 https://www.lyrics.com/lyric/23402023/Dido/Take+My+Hand\n",
      "389 https://www.lyrics.com/lyric/5947199/Dido/Here+with+Me\n",
      "390 https://www.lyrics.com/lyric/5947200/Dido/Hunter\n",
      "391 https://www.lyrics.com/lyric/5947201/Dido/Don%27t+Think+of+Me\n",
      "392 https://www.lyrics.com/lyric/5947202/Dido/My+Lover%27s+Gone\n",
      "393 https://www.lyrics.com/lyric/5947203/Dido/All+You+Want\n",
      "394 https://www.lyrics.com/lyric/5947204/Dido/Thank+You\n",
      "395 https://www.lyrics.com/lyric/5947205/Dido/Honestly+OK\n",
      "396 https://www.lyrics.com/lyric/5947206/Dido/Slide\n",
      "397 https://www.lyrics.com/lyric/5947207/Dido/Isobel\n",
      "398 https://www.lyrics.com/lyric/5947208/Dido/I%27m+No+Angel\n",
      "399 https://www.lyrics.com/lyric/5947209/Dido/My+Life\n",
      "400 https://www.lyrics.com/lyric/5195751/Dido/Here+with+Me\n",
      "401 https://www.lyrics.com/lyric/5195752/Dido/Hunter\n",
      "402 https://www.lyrics.com/lyric/5195753/Dido/Don%27t+Think+of+Me\n",
      "403 https://www.lyrics.com/lyric/5195754/Dido/My+Lover%27s+Gone\n",
      "404 https://www.lyrics.com/lyric/5195755/Dido/All+You+Want\n",
      "405 https://www.lyrics.com/lyric/5195756/Dido/Thank+You\n",
      "406 https://www.lyrics.com/lyric/5195757/Dido/Honestly+OK\n",
      "407 https://www.lyrics.com/lyric/5195758/Dido/Slide\n",
      "408 https://www.lyrics.com/lyric/5195759/Dido/Isobel\n",
      "409 https://www.lyrics.com/lyric/5195760/Dido/I%27m+No+Angel\n",
      "410 https://www.lyrics.com/lyric/5195761/Dido/My+Life\n",
      "411 https://www.lyrics.com/lyric/5601916/Dido/Here+with+Me\n",
      "412 https://www.lyrics.com/lyric/5601917/Dido/Hunter\n",
      "413 https://www.lyrics.com/lyric/5601918/Dido/Don%27t+Think+of+Me\n",
      "414 https://www.lyrics.com/lyric/5601919/Dido/My+Lover%27s+Gone\n",
      "415 https://www.lyrics.com/lyric/5601920/Dido/All+You+Want\n",
      "416 https://www.lyrics.com/lyric/5601921/Dido/Thank+You\n",
      "417 https://www.lyrics.com/lyric/5601922/Dido/Honestly+OK\n",
      "418 https://www.lyrics.com/lyric/5601923/Dido/Slide\n",
      "419 https://www.lyrics.com/lyric/5601924/Dido/Isobel\n",
      "420 https://www.lyrics.com/lyric/5601925/Dido/I%27m+No+Angel\n",
      "421 https://www.lyrics.com/lyric/5601926/Dido/My+Life\n",
      "422 https://www.lyrics.com/lyric/1902834/Dido/Thank+You\n",
      "423 https://www.lyrics.com/lyric/19039780/Dido/Here+with+Me\n",
      "424 https://www.lyrics.com/lyric/5403146/Dido/Flowerstand+Man\n",
      "425 https://www.lyrics.com/lyric/23635550/Dido/The+Hunter\n",
      "426 https://www.lyrics.com/lyric/36231001/Dido/If+I+Rise\n",
      "427 https://www.lyrics.com/lyric/19145623/Dido/Thank+You\n",
      "428 https://www.lyrics.com/lyric/16439059/Dido/Here+with+Me\n",
      "429 https://www.lyrics.com/lyric/18863466/Dido/Here+with+Me\n",
      "430 https://www.lyrics.com/lyric/18864061/Dido/Worthless\n",
      "431 https://www.lyrics.com/lyric/18004958/Dido/White+Flags\n",
      "432 https://www.lyrics.com/lyric/21103872/Dido/White+Flag\n",
      "433 https://www.lyrics.com/lyric/20968561/Dido/Here+with+Me\n",
      "434 https://www.lyrics.com/lyric/19147309/Dido/Stan\n",
      "435 https://www.lyrics.com/lyric/19810754/Dido/Thank+You\n",
      "436 https://www.lyrics.com/lyric/19864280/Dido/Hunter\n",
      "437 https://www.lyrics.com/lyric/5801405/Dido/One+Step+Too+Far\n",
      "438 https://www.lyrics.com/lyric/23365173/Dido/Life+for+Rent\n",
      "439 https://www.lyrics.com/lyric/23012838/Dido/Christmas+Day\n",
      "440 https://www.lyrics.com/lyric/26074846/Dido/Thank+You\n",
      "441 https://www.lyrics.com/lyric/4312805/Dido/Christmas+Day\n",
      "442 https://www.lyrics.com/lyric/19204706/Dido/Stan\n",
      "443 https://www.lyrics.com/lyric/19233695/Dido/Thank+You\n",
      "444 https://www.lyrics.com/lyric/19350573/Dido/Stan\n",
      "445 https://www.lyrics.com/lyric/19276001/Dido/White+Flag\n",
      "446 https://www.lyrics.com/lyric/18849324/Dido/Stan\n",
      "447 https://www.lyrics.com/lyric/32953141/Dido/Don%27t+Leave+Home\n",
      "448 https://www.lyrics.com/lyric/31792010/Dido/Burnin%27+Love+%28feat.+Citizen+Cope%29\n",
      "449 https://www.lyrics.com/lyric/30164252/Dido/No+Freedom\n",
      "450 https://www.lyrics.com/lyric/30164251/Dido/End+of+Night\n",
      "451 https://www.lyrics.com/lyric/30164250/Dido/One+Step+Too+Far\n",
      "452 https://www.lyrics.com/lyric/23786728/Dido/Here+with+Me\n",
      "453 https://www.lyrics.com/lyric/32416850/Dido/Stan\n",
      "454 https://www.lyrics.com/lyric/31791902/Dido/Burnin%27+Love+%28feat.+Citizen+Cope%29\n",
      "455 https://www.lyrics.com/lyric/31138079/Dido/Thank+You\n",
      "456 https://www.lyrics.com/lyric/30332264/Dido/Stan\n",
      "457 https://www.lyrics.com/lyric/30164258/Dido/Thank+You\n",
      "458 https://www.lyrics.com/lyric/30089980/Dido/One+Step+Too+Far\n",
      "459 https://www.lyrics.com/lyric/19303765/Dido/Sand+in+My+Shoes\n",
      "460 https://www.lyrics.com/lyric/17922403/Dido/Thank+You\n",
      "461 https://www.lyrics.com/lyric/16268226/Dido/My+Life\n",
      "462 https://www.lyrics.com/lyric/16268225/Dido/Isobel\n",
      "463 https://www.lyrics.com/lyric/16268228/Dido/Don%27t+Leave+Home\n",
      "464 https://www.lyrics.com/lyric/16268232/Dido/Sand+in+My+Shoes\n",
      "465 https://www.lyrics.com/lyric/16268231/Dido/Thank+You\n",
      "466 https://www.lyrics.com/lyric/36689062/Dido/Here+with+Me\n",
      "467 https://www.lyrics.com/lyric/36661801/Dido/Some+Kind+Of+Love\n",
      "468 https://www.lyrics.com/lyric/8167770/Dido/This+Land+is+Mine\n",
      "469 https://www.lyrics.com/lyric/16268234/Dido/Do+You+Have+a+Little+Time\n",
      "470 https://www.lyrics.com/lyric/15488461/Dido/One+Step+Too+Far\n",
      "471 https://www.lyrics.com/lyric/36668012/Dido/Christmas+Day\n",
      "472 https://www.lyrics.com/lyric/36661806/Dido/Mad+Love\n",
      "473 https://www.lyrics.com/lyric/36661805/Dido/Give+You+Up\n",
      "474 https://www.lyrics.com/lyric/36661804/Dido/Hell+After+This\n",
      "475 https://www.lyrics.com/lyric/36661803/Dido/You+Don%27t+Need+a+God\n",
      "476 https://www.lyrics.com/lyric/36661802/Dido/Take+You+Home\n",
      "477 https://www.lyrics.com/lyric/36661800/Dido/Chances\n",
      "478 https://www.lyrics.com/lyric/8122109/Dido/Do+You+Have+a+Little+Time\n",
      "479 https://www.lyrics.com/lyric/36661798/Dido/Walking+By\n",
      "480 https://www.lyrics.com/lyric/36661797/Dido/Friends\n",
      "481 https://www.lyrics.com/lyric/36661796/Dido/Still+On+My+Mind\n",
      "482 https://www.lyrics.com/lyric/36661791/Dido/Thank+You\n",
      "483 https://www.lyrics.com/lyric/33917248/Dido/Thank+You\n",
      "484 https://www.lyrics.com/lyric/37121649/Dido/Walking+By\n",
      "485 https://www.lyrics.com/lyric/36661799/Dido/Have+To+Stay\n",
      "486 https://www.lyrics.com/lyric/37052342/Dido/Together+%28In+These+Times%29\n",
      "487 https://www.lyrics.com/lyric/37420780/Dido/Hurricanes\n",
      "488 https://www.lyrics.com/lyric/27947819/Dido/Stan\n",
      "489 https://www.lyrics.com/lyric/30164241/Dido/Northern+Skies\n",
      "490 https://www.lyrics.com/lyric/5688840/Dido/One+Step+Too+Far\n",
      "491 https://www.lyrics.com/lyric/6179976/Dido/Stan\n",
      "492 https://www.lyrics.com/lyric/8371256/Dido/Sand+in+My+Shoes\n",
      "493 https://www.lyrics.com/lyric/8130322/Dido/One+Step+Too+Far\n",
      "494 https://www.lyrics.com/lyric/8122103/Dido/Don%27t+Leave+Home\n",
      "495 https://www.lyrics.com/lyric/8122106/Dido/Thank+You\n",
      "496 https://www.lyrics.com/lyric/8122100/Dido/Isobel\n",
      "497 https://www.lyrics.com/lyric/7708491/Dido/One+Step+Too+Far\n",
      "498 https://www.lyrics.com/lyric/7216480/Dido/Don%27t+Leave+Home\n",
      "499 https://www.lyrics.com/lyric/6739123/Dido/Thank+You\n",
      "500 https://www.lyrics.com/lyric/5876006/Dido/One+Step+Too+Far\n",
      "501 https://www.lyrics.com/lyric/5852395/Dido/One+Step+Too+Far\n",
      "502 https://www.lyrics.com/lyric/5850928/Dido/One+Step+Too+Far\n",
      "503 https://www.lyrics.com/lyric/5801361/Dido/One+Step+Too+Far\n",
      "504 https://www.lyrics.com/lyric/5688845/Dido/One+Step+Too+Far\n",
      "505 https://www.lyrics.com/lyric/30939665/Dido/Burnin%27+Love+%28feat.+Citizen+Cope%29\n",
      "506 https://www.lyrics.com/lyric/36575530/Dido/Just+Because\n",
      "507 https://www.lyrics.com/lyric/30164253/Dido/Let+Us+Move+On\n",
      "508 https://www.lyrics.com/lyric/37121648/Dido/Friends\n",
      "509 https://www.lyrics.com/lyric/8122107/Dido/Sand+in+My+Shoes\n",
      "510 https://www.lyrics.com/lyric/22967563/Dido/Sand+in+My+Shoes\n",
      "511 https://www.lyrics.com/lyric/19104178/Dido/Thank+You\n"
     ]
    }
   ],
   "source": [
    "songs_to_file(songfile, song_links)"
   ]
  },
  {
   "cell_type": "code",
   "execution_count": 91,
   "id": "d6e13c16",
   "metadata": {},
   "outputs": [
    {
     "name": "stdout",
     "output_type": "stream",
     "text": [
      "0 Just+Because\n",
      "1 7+Seconds\n",
      "2 Hurricanes\n",
      "3 Give+You+Up\n",
      "4 Hell+After+This\n",
      "5 You+Don%27t+Need+a+God\n",
      "6 Take+You+Home\n",
      "7 Some+Kind+of+Love\n",
      "8 Still+on+My+Mind\n",
      "9 Mad+Love\n",
      "10 Walking+By\n",
      "11 Friends\n",
      "12 Chances\n",
      "13 Have+to+Stay\n",
      "14 Life+for+Rent\n",
      "15 Christmas+Day\n",
      "16 Here+With+Me\n",
      "17 Sand+in+My+Shoes\n",
      "18 Here+With+Me\n",
      "19 Here+With+Me\n",
      "20 Here+With+Me\n",
      "21 Christmas+Day\n",
      "22 White+Flag\n",
      "23 Beside+the+Sea\n",
      "24 Thank+You\n",
      "25 Thank+You\n",
      "26 Christmas+Day\n",
      "27 One+Step+Too+Far\n",
      "28 Feelin%27+Good\n",
      "29 Thank+You\n",
      "30 Thank+You\n",
      "31 Here+with+Me\n",
      "32 Christmas+Day\n",
      "33 Christmas+Day\n",
      "34 Christmas+Day\n",
      "35 Stan\n",
      "36 White+Flag\n",
      "37 Thank+You\n",
      "38 White+Flag\n",
      "39 White+Flag\n",
      "40 White+Flag\n",
      "41 Thank+You\n",
      "42 White+Flag\n",
      "43 No+Freedom\n",
      "44 Girl+Who+Got+Away\n",
      "45 Let+Us+Move+On\n",
      "46 Blackbird\n",
      "47 End+of+Night\n",
      "48 Sitting+on+the+Roof+of+the+World\n",
      "49 Love+to+Blame\n",
      "50 Go+Dreaming\n",
      "51 Happy+New+Year\n",
      "52 Loveless+Hearts\n",
      "53 Day+Before+We+Went+to+War\n",
      "54 No+Freedom\n",
      "55 Girl+Who+Got+Away\n",
      "56 Let+Us+Move+On\n",
      "57 Blackbird\n",
      "58 End+of+Night\n",
      "59 Sitting+on+the+Roof+of+the+World\n",
      "60 Love+to+Blame\n",
      "61 Go+Dreaming\n",
      "62 Happy+New+Year\n",
      "63 Loveless+Hearts\n",
      "64 Day+Before+We+Went+to+War\n",
      "65 All+I+See\n",
      "66 Just+Say+Yes\n",
      "67 Let%27s+Runaway\n",
      "68 Lost\n",
      "69 Here+with+Me\n",
      "70 Thank+You\n",
      "71 Hunter\n",
      "72 White+Flag\n",
      "73 Life+for+Rent\n",
      "74 Don%27t+Leave+Home\n",
      "75 Sand+in+My+Shoes\n",
      "76 Don%27t+Believe+in+Love\n",
      "77 Quiet+Times\n",
      "78 Grafton+Street\n",
      "79 Everything+to+Lose\n",
      "80 Let+Us+Move+On\n",
      "81 No+Freedom\n",
      "82 End+of+Night\n",
      "83 Stan\n",
      "84 NYC\n",
      "85 Here+With+Me\n",
      "86 Hunter\n",
      "87 White+Flag\n",
      "88 Life+For+Rent\n",
      "89 Don%27t+Leave+Home\n",
      "90 Sand+In+My+Shoes\n",
      "91 Don%27t+Believe+In+Love\n",
      "92 Quiet+Times\n",
      "93 Grafton+Street\n",
      "94 Everything+To+Lose\n",
      "95 Stan\n",
      "96 NYC\n",
      "97 No+Freedom\n",
      "98 A+Linha+E+O+Linho\n",
      "99 Drao\n",
      "100 New+York\n",
      "101 White+Flag\n",
      "102 Here+with+Me\n",
      "103 White+Flag\n",
      "104 Worthless\n",
      "105 Thank+You\n",
      "106 One+Step+Too+Far\n",
      "107 Thank+You\n",
      "108 White+Flag\n",
      "109 Sand+In+My+Shoes\n",
      "110 Here+With+Me\n",
      "111 Here+With+Me\n",
      "112 If+I+Rise\n",
      "113 White+Flag\n",
      "114 Here+with+Me\n",
      "115 My+Life\n",
      "116 Everything+to+Lose\n",
      "117 Here+with+Me\n",
      "118 Christmas+Day\n",
      "119 Here+with+Me\n",
      "120 Everything+to+Lose\n",
      "121 Everything+to+Lose\n",
      "122 Feelin+Good\n",
      "123 North+Star\n",
      "124 Here+with+Me\n",
      "125 Here+with+Me\n",
      "126 One+Step+Too+Far\n",
      "127 Here+with+Me\n",
      "128 Here+with+Me\n",
      "129 Sing\n",
      "130 Christmas+Day\n",
      "131 Thank+You\n",
      "132 Here+with+Me\n",
      "133 Here+with+Me\n",
      "134 Thank+You\n",
      "135 Thank+You\n",
      "136 One+Step+Too+Far\n",
      "137 White+Flag\n",
      "138 White+Flag\n",
      "139 Sand+in+My+Shoes\n",
      "140 Don%27t+Believe+in+Love\n",
      "141 Quiet+Times\n",
      "142 Never+Want+to+Say+It%27s+Love\n",
      "143 Grafton+Street\n",
      "144 It+Comes+and+It+Goes\n",
      "145 Look+No+Further\n",
      "146 Us+2+Little+Gods\n",
      "147 The+Day+Before+the+Day\n",
      "148 Day+Before+The+Day\n",
      "149 Let%27s+Do+the+Things+We+Normally+Do\n",
      "150 Burnin+Love\n",
      "151 Northern+Skies\n",
      "152 Don%27t+Believe+in+Love\n",
      "153 Quiet+Times\n",
      "154 Never+Want+to+Say+It%27s+Love\n",
      "155 Grafton+Street\n",
      "156 It+Comes+and+It+Goes\n",
      "157 Look+No+Further\n",
      "158 Us+2+Little+Gods\n",
      "159 The+Day+Before+the+Day\n",
      "160 Let%27s+Do+the+Things+We+Normally+Do\n",
      "161 Burnin+Love\n",
      "162 Northern+Skies\n",
      "163 Thank+You\n",
      "164 Thank+You\n",
      "165 Thank+You\n",
      "166 Here+With+Me\n",
      "167 Worthless\n",
      "168 Stan\n",
      "169 Sand+in+My+Shoes\n",
      "170 Sand+in+My+Shoes\n",
      "171 Here+with+Me\n",
      "172 One+Step+Too+Far\n",
      "173 Here+with+Me\n",
      "174 White+Flag\n",
      "175 White+Flag\n",
      "176 Thanks+to+You\n",
      "177 White+Flag\n",
      "178 Thank+You\n",
      "179 White+Flag\n",
      "180 Life+for+Rent\n",
      "181 Thank+You\n",
      "182 Thank+You\n",
      "183 Thank+You\n",
      "184 White+Flag\n",
      "185 Thank+You\n",
      "186 One+Step+Too+Far\n",
      "187 Worthless\n",
      "188 One+Step+Too+Far\n",
      "189 One+Step+Too+Far\n",
      "190 Last+This+Day\n",
      "191 Last+This+Day\n",
      "192 White+Flag\n",
      "193 Thank+You\n",
      "194 Thank+You\n",
      "195 Thank+You\n",
      "196 Thank+You\n",
      "197 Thank+You\n",
      "198 Here+with+Me\n",
      "199 Thank+You\n",
      "200 White+Flag\n",
      "201 Don%27t+Leave+Home\n",
      "202 Sand+in+My+Shoes\n",
      "203 Sand+in+My+Shoes\n",
      "204 White+Flag\n",
      "205 Stan\n",
      "206 Stan\n",
      "207 Stan\n",
      "208 Stoned\n",
      "209 Here+with+Me\n",
      "210 See+You+When+You%27re+40\n",
      "211 Life+for+Rent\n",
      "212 Isobel\n",
      "213 Honestly+OK\n",
      "214 Take+My+Hand\n",
      "215 Thank+You\n",
      "216 Mary%27s+in+India\n",
      "217 Sand+in+My+Shoes\n",
      "218 White+Flag\n",
      "219 See+the+Sun\n",
      "220 White+Flag\n",
      "221 Here+with+Me\n",
      "222 One+Step+Too+Far\n",
      "223 One+Step+Too+Far\n",
      "224 One+Step+Too+Far\n",
      "225 Sand+in+My+Shoes\n",
      "226 Here+with+Me\n",
      "227 Thank+You\n",
      "228 Stoned\n",
      "229 Here+with+Me\n",
      "230 See+You+When+You%27re+40\n",
      "231 Life+for+Rent\n",
      "232 Isobel\n",
      "233 Honestly+OK\n",
      "234 Take+My+Hand\n",
      "235 Thank+You\n",
      "236 Mary%27s+in+India\n",
      "237 Sand+in+My+Shoes\n",
      "238 White+Flag\n",
      "239 See+the+Sun\n",
      "240 Thank+You\n",
      "241 Life+for+Rent\n",
      "242 Thank+You\n",
      "243 Here+with+Me\n",
      "244 Thank+You\n",
      "245 White+Flag\n",
      "246 Thank+You\n",
      "247 White+Flag\n",
      "248 Here+with+Me\n",
      "249 Here+with+Me\n",
      "250 Life+for+Rent\n",
      "251 Thank+You\n",
      "252 Thank+You\n",
      "253 White+Flag\n",
      "254 I+Eat+Dinner+%28When+the+Hunger%27s+Gone%29\n",
      "255 I+Eat+Dinner+%28When+the+Hunger%27s+Gone%29\n",
      "256 I+Eat+Dinner+%28When+the+Hunger%27s+Gone%29\n",
      "257 Don%27t+Leave+Home\n",
      "258 One+Step+Too+Far\n",
      "259 Don%27t+Leave+Home\n",
      "260 Don%27t+Leave+Home\n",
      "261 Thank+You\n",
      "262 White+Flag\n",
      "263 White+Flag\n",
      "264 Thank+You\n",
      "265 Here+with+Me\n",
      "266 White+Flag\n",
      "267 White+Flag\n",
      "268 Christmas+Day\n",
      "269 Thank+You\n",
      "270 Here+with+Me\n",
      "271 White+Flag\n",
      "272 Christmas+Day\n",
      "273 White+Flag\n",
      "274 Here+with+Me\n",
      "275 Thank+You\n",
      "276 Thank+You\n",
      "277 White+Flag\n",
      "278 Stoned\n",
      "279 Life+for+Rent\n",
      "280 Mary%27s+in+India\n",
      "281 See+You+When+You%27re+40\n",
      "282 Don%27t+Leave+Home\n",
      "283 Who+Makes+You+Feel\n",
      "284 Sand+in+My+Shoes\n",
      "285 Do+You+Have+a+Little+Time\n",
      "286 This+Land+is+Mine\n",
      "287 See+the+Sun\n",
      "288 Here+with+Me\n",
      "289 Here+with+Me\n",
      "290 Here+with+Me\n",
      "291 Here+With+Me\n",
      "292 Here+with+Me\n",
      "293 Thank+You\n",
      "294 Dub+Be+Good+to+Me\n",
      "295 Christmas+Day\n",
      "296 Thank+You\n",
      "297 Thank+You\n",
      "298 Here+with+Me\n",
      "299 Thank+You\n",
      "300 Thank+You\n",
      "301 Here+with+Me\n",
      "302 Here+with+Me\n",
      "303 White+Flag\n",
      "304 Paris\n",
      "305 Thank+You\n",
      "306 Hunter\n",
      "307 Thank+You\n",
      "308 Worthless\n",
      "309 Thank+You\n",
      "310 Here+with+Me\n",
      "311 Thank+You\n",
      "312 Thank+You\n",
      "313 Stan\n",
      "314 Here+with+Me+%28Theme+from+%22Roswell%22%29\n",
      "315 Stan\n",
      "316 Thank+You\n",
      "317 Thank+You\n",
      "318 Here+with+Me\n",
      "319 My+Lover%27s+Gone\n",
      "320 Hunter\n",
      "321 Hunter\n",
      "322 Here+With+Me\n",
      "323 Feels+Like+Fire\n",
      "324 Feels+Like+Fire\n",
      "325 Feels+Like+Fire\n",
      "326 Here+with+Me\n",
      "327 Don%27t+Think+of+Me\n",
      "328 Stan\n",
      "329 Thank+You\n",
      "330 Here+with+Me\n",
      "331 Christmas+Day\n",
      "332 Christmas+Day\n",
      "333 Thank+You\n",
      "334 Here+with+Me\n",
      "335 Hunter\n",
      "336 Thank+You\n",
      "337 My+Life\n",
      "338 My+Life\n",
      "339 Worthless\n",
      "340 Worthless\n",
      "341 Take+My+Hand\n",
      "342 Here+with+Me\n",
      "343 Stan\n",
      "344 Hunter\n",
      "345 Thank+You\n",
      "346 Thank+You\n",
      "347 One+Step+Too+Far\n",
      "348 One+Step+Too+Far\n",
      "349 Stan\n",
      "350 Thank+You\n",
      "351 Here+with+Me\n",
      "352 Thank+You\n",
      "353 Thank+You\n",
      "354 Thank+You\n",
      "355 Stan\n",
      "356 Thank+You\n",
      "357 Stan\n",
      "358 Here+with+Me\n",
      "359 Christmas+Day\n",
      "360 Stan\n",
      "361 Stan\n",
      "362 Here+with+Me\n",
      "363 Stan\n",
      "364 Stan\n",
      "365 Christmas+Day\n",
      "366 Stan\n",
      "367 Stan\n",
      "368 Stan\n",
      "369 Stan\n",
      "370 Stan\n",
      "371 Stan\n",
      "372 Here+with+Me\n",
      "373 Here+with+Me\n",
      "374 Here+with+Me\n",
      "375 Here+with+Me\n",
      "376 Here+with+Me\n",
      "377 Hunter\n",
      "378 Don%27t+Think+of+Me\n",
      "379 My+Lover%27s+Gone\n",
      "380 All+You+Want\n",
      "381 Thankyou\n",
      "382 Thank+You\n",
      "383 Honestly+OK\n",
      "384 Slide\n",
      "385 Isobel\n",
      "386 I%27m+No+Angel\n",
      "387 My+Life\n",
      "388 Take+My+Hand\n",
      "389 Here+with+Me\n",
      "390 Hunter\n",
      "391 Don%27t+Think+of+Me\n",
      "392 My+Lover%27s+Gone\n",
      "393 All+You+Want\n",
      "394 Thank+You\n",
      "395 Honestly+OK\n",
      "396 Slide\n",
      "397 Isobel\n",
      "398 I%27m+No+Angel\n",
      "399 My+Life\n",
      "400 Here+with+Me\n",
      "401 Hunter\n",
      "402 Don%27t+Think+of+Me\n",
      "403 My+Lover%27s+Gone\n",
      "404 All+You+Want\n",
      "405 Thank+You\n",
      "406 Honestly+OK\n",
      "407 Slide\n",
      "408 Isobel\n",
      "409 I%27m+No+Angel\n",
      "410 My+Life\n",
      "411 Here+with+Me\n",
      "412 Hunter\n",
      "413 Don%27t+Think+of+Me\n",
      "414 My+Lover%27s+Gone\n",
      "415 All+You+Want\n",
      "416 Thank+You\n",
      "417 Honestly+OK\n",
      "418 Slide\n",
      "419 Isobel\n",
      "420 I%27m+No+Angel\n",
      "421 My+Life\n",
      "422 Thank+You\n",
      "423 Here+with+Me\n",
      "424 Flowerstand+Man\n",
      "425 The+Hunter\n",
      "426 If+I+Rise\n",
      "427 Thank+You\n",
      "428 Here+with+Me\n",
      "429 Here+with+Me\n",
      "430 Worthless\n",
      "431 White+Flags\n",
      "432 White+Flag\n",
      "433 Here+with+Me\n",
      "434 Stan\n",
      "435 Thank+You\n",
      "436 Hunter\n",
      "437 One+Step+Too+Far\n",
      "438 Life+for+Rent\n",
      "439 Christmas+Day\n",
      "440 Thank+You\n",
      "441 Christmas+Day\n",
      "442 Stan\n",
      "443 Thank+You\n",
      "444 Stan\n",
      "445 White+Flag\n",
      "446 Stan\n",
      "447 Don%27t+Leave+Home\n",
      "448 Burnin%27+Love+%28feat.+Citizen+Cope%29\n",
      "449 No+Freedom\n",
      "450 End+of+Night\n",
      "451 One+Step+Too+Far\n",
      "452 Here+with+Me\n",
      "453 Stan\n",
      "454 Burnin%27+Love+%28feat.+Citizen+Cope%29\n",
      "455 Thank+You\n",
      "456 Stan\n",
      "457 Thank+You\n",
      "458 One+Step+Too+Far\n",
      "459 Sand+in+My+Shoes\n",
      "460 Thank+You\n",
      "461 My+Life\n",
      "462 Isobel\n",
      "463 Don%27t+Leave+Home\n",
      "464 Sand+in+My+Shoes\n",
      "465 Thank+You\n",
      "466 Here+with+Me\n",
      "467 Some+Kind+Of+Love\n",
      "468 This+Land+is+Mine\n",
      "469 Do+You+Have+a+Little+Time\n",
      "470 One+Step+Too+Far\n",
      "471 Christmas+Day\n",
      "472 Mad+Love\n",
      "473 Give+You+Up\n",
      "474 Hell+After+This\n",
      "475 You+Don%27t+Need+a+God\n",
      "476 Take+You+Home\n",
      "477 Chances\n",
      "478 Do+You+Have+a+Little+Time\n",
      "479 Walking+By\n",
      "480 Friends\n",
      "481 Still+On+My+Mind\n",
      "482 Thank+You\n",
      "483 Thank+You\n",
      "484 Walking+By\n",
      "485 Have+To+Stay\n"
     ]
    },
    {
     "name": "stdout",
     "output_type": "stream",
     "text": [
      "486 Together+%28In+These+Times%29\n",
      "487 Hurricanes\n",
      "488 Stan\n",
      "489 Northern+Skies\n",
      "490 One+Step+Too+Far\n",
      "491 Stan\n",
      "492 Sand+in+My+Shoes\n",
      "493 One+Step+Too+Far\n",
      "494 Don%27t+Leave+Home\n",
      "495 Thank+You\n",
      "496 Isobel\n",
      "497 One+Step+Too+Far\n",
      "498 Don%27t+Leave+Home\n",
      "499 Thank+You\n",
      "500 One+Step+Too+Far\n",
      "501 One+Step+Too+Far\n",
      "502 One+Step+Too+Far\n",
      "503 One+Step+Too+Far\n",
      "504 One+Step+Too+Far\n",
      "505 Burnin%27+Love+%28feat.+Citizen+Cope%29\n",
      "506 Just+Because\n",
      "507 Let+Us+Move+On\n",
      "508 Friends\n",
      "509 Sand+in+My+Shoes\n",
      "510 Sand+in+My+Shoes\n",
      "511 Thank+You\n"
     ]
    }
   ],
   "source": [
    "links_to_list(song_links)"
   ]
  },
  {
   "cell_type": "code",
   "execution_count": 1173,
   "id": "5e574803",
   "metadata": {},
   "outputs": [],
   "source": [
    "lyrics_to_file(artist_path)"
   ]
  },
  {
   "cell_type": "code",
   "execution_count": 1174,
   "id": "f89e012a",
   "metadata": {},
   "outputs": [
    {
     "data": {
      "text/plain": [
       "['[\"I want the view from the top of the hill  Give me the view from the top of the hill    When I think of you  And your good life  And your sorrow too  How much I\\'m missing you  No matter where I go  Or where I come to stay  This is waking up  I want this feeling  Doors wide open    And now I leave it all  Bags of trouble  And a messy mind  Oh I hope I find  Where your load is light  Where your heart\\'s at ease  This is waking up  And feeling good, feeling good    Hey, I\\'m making my mistakes  \\'Cause I\\'m no great shakes at being perfect  I just take my breaks and work it  Bring it to the surface  Like a scuba diver  Never nervous  Cause now I\\'m older and wiser  An\\' I\\'ve a bold feelin\\'  This old skin is peeln\\'  Revealing a new layer  I\\'m no soothsayer  But I feel it\\'s time to leave  To polish my heart with the other sleeve    I want the view from the top of the hill  Give me the view from the top of the hill  I want the view from the top of the hill  Give me the view from the top of the hill    And feeling good, feeling good\"]']"
      ]
     },
     "execution_count": 1174,
     "metadata": {},
     "output_type": "execute_result"
    }
   ],
   "source": [
    "corpus[:1]"
   ]
  },
  {
   "cell_type": "code",
   "execution_count": 1175,
   "id": "dea83a9d",
   "metadata": {},
   "outputs": [
    {
     "data": {
      "text/plain": [
       "['Feelin%27+Good.txt',\n",
       " 'Hunter.txt',\n",
       " 'See+the+Sun.txt',\n",
       " 'Go+Dreaming.txt',\n",
       " 'The+Hunter.txt']"
      ]
     },
     "execution_count": 1175,
     "metadata": {},
     "output_type": "execute_result"
    }
   ],
   "source": [
    "titles[:5]"
   ]
  },
  {
   "cell_type": "code",
   "execution_count": 1176,
   "id": "b9be5e8d",
   "metadata": {},
   "outputs": [],
   "source": [
    "df = make_dataframe(corpus, titles)"
   ]
  },
  {
   "cell_type": "code",
   "execution_count": 1177,
   "id": "450a9a77",
   "metadata": {},
   "outputs": [],
   "source": [
    "specialChars = \"]\" \n",
    "for count, lyric in enumerate(df['lyrics']):\n",
    "    for specialChar in specialChars:\n",
    "        lyric_new = lyric.replace(specialChar, '')\n",
    "        df[\"lyrics\"][count] = lyric_new"
   ]
  },
  {
   "cell_type": "code",
   "execution_count": 1178,
   "id": "0cd87f10",
   "metadata": {},
   "outputs": [],
   "source": [
    "specialChars = \"[\"\n",
    "for count, lyric in enumerate(df['lyrics']):\n",
    "    for specialChar in specialChars:\n",
    "        lyric_new = lyric.replace(specialChar, '')\n",
    "        df[\"lyrics\"][count] = lyric_new"
   ]
  },
  {
   "cell_type": "code",
   "execution_count": 1179,
   "id": "d07037db",
   "metadata": {},
   "outputs": [],
   "source": [
    "specialChars = '/\"' \n",
    "for count, lyric in enumerate(df['lyrics']):\n",
    "    for specialChar in specialChars:\n",
    "        lyric_new = lyric.replace(specialChar, '')\n",
    "        df[\"lyrics\"][count] = lyric_new"
   ]
  },
  {
   "cell_type": "code",
   "execution_count": 1180,
   "id": "353bcaf5",
   "metadata": {},
   "outputs": [],
   "source": [
    "df = cleaning(df)"
   ]
  },
  {
   "cell_type": "code",
   "execution_count": 1181,
   "id": "32687c16",
   "metadata": {},
   "outputs": [],
   "source": [
    "df = drop_duplicate_songs(df)"
   ]
  },
  {
   "cell_type": "code",
   "execution_count": 1182,
   "id": "320dac68",
   "metadata": {},
   "outputs": [],
   "source": [
    "df = remove_digits(df)"
   ]
  },
  {
   "cell_type": "code",
   "execution_count": 1183,
   "id": "de5aca71",
   "metadata": {},
   "outputs": [],
   "source": [
    "df.to_csv(f'{artist}_bysong_clean.csv', sep='\\t')"
   ]
  },
  {
   "cell_type": "code",
   "execution_count": 1184,
   "id": "9ff55150",
   "metadata": {},
   "outputs": [],
   "source": [
    "df = pd.read_csv(f'{artist}_bysong_clean.csv', sep='\\t', index_col = [0])"
   ]
  },
  {
   "cell_type": "code",
   "execution_count": 1185,
   "id": "365bfb4f",
   "metadata": {},
   "outputs": [
    {
     "data": {
      "text/html": [
       "<div><div id=8653dfb1-5cbc-446f-bc2c-1c466fe91680 style=\"display:none; background-color:#9D6CFF; color:white; width:200px; height:30px; padding-left:5px; border-radius:4px; flex-direction:row; justify-content:space-around; align-items:center;\" onmouseover=\"this.style.backgroundColor='#BA9BF8'\" onmouseout=\"this.style.backgroundColor='#9D6CFF'\" onclick=\"window.commands?.execute('create-mitosheet-from-dataframe-output');\">See Full Dataframe in Mito</div> <script> if (window.commands.hasCommand('create-mitosheet-from-dataframe-output')) document.getElementById('8653dfb1-5cbc-446f-bc2c-1c466fe91680').style.display = 'flex' </script> <table border=\"1\" class=\"dataframe\">\n",
       "  <thead>\n",
       "    <tr style=\"text-align: right;\">\n",
       "      <th></th>\n",
       "      <th>lyrics</th>\n",
       "      <th>title</th>\n",
       "      <th>artist</th>\n",
       "    </tr>\n",
       "  </thead>\n",
       "  <tbody>\n",
       "    <tr>\n",
       "      <th>0</th>\n",
       "      <td>i want the view from the top of the hill  give me the view from the top of the hill    when i think of you  and your good life  and your sorrow too  how much i'm missing you  no matter where i go  or where i come to stay  this is waking up  i want this feeling  doors wide open    and now i leave it all  bags of trouble  and a messy mind  oh i hope i find  where your load is light  where your heart's at ease  this is waking up  and feeling good feeling good    hey i'm making my mistakes  'cause i'm no great shakes at being perfect  i just take my breaks and work it  bring it to the surface  like a scuba diver  never nervous  cause now i'm older and wiser  an' i've a bold feelin'  this old skin is peeln'  revealing a new layer  i'm no soothsayer  but i feel it's time to leave  to polish my heart with the other sleeve    i want the view from the top of the hill  give me the view from the top of the hill  i want the view from the top of the hill  give me the view from the top of the hill    and feeling good feeling good</td>\n",
       "      <td>feelin</td>\n",
       "      <td>dido</td>\n",
       "    </tr>\n",
       "    <tr>\n",
       "      <th>1</th>\n",
       "      <td>with one light on in one room i know you're up when i get home with one small step upon the stair i know your look when i get there if you were a king up there on your throne would you be wise enough to let me go for this queen you think you own wants to be a hunter again i want to see the world alone again to take a chance on life again so let me go  the unread book and painful look the tv's on the sound is down one long pause then you begin oh look what the cat's brought in if you were a king up there on your throne would you be wise enough to let me go for this queen you think you own wants to be a hunter again i want to see the world alone again to take a chance on life again so let me go let me leave  for the crown you've placed upon my head feels too heavy now and i don't know what to say to you but i'll smile anyhow and all the time i'm thinking thinking  i want to be a hunter again i want to see the world alone again to take a chance on life again so let me go  i want to be a hunter again i want to see the world alone again to take a chance on life again so let me go  let me leave let me go</td>\n",
       "      <td>hunter</td>\n",
       "      <td>dido</td>\n",
       "    </tr>\n",
       "  </tbody>\n",
       "</table></div>"
      ],
      "text/plain": [
       "                                              lyrics   title artist\n",
       "0  i want the view from the top of the hill  give...  feelin   dido\n",
       "1  with one light on in one room i know you're up...  hunter   dido"
      ]
     },
     "execution_count": 1185,
     "metadata": {},
     "output_type": "execute_result"
    }
   ],
   "source": [
    "df.head(2)"
   ]
  },
  {
   "cell_type": "markdown",
   "id": "7b8ecf8c",
   "metadata": {},
   "source": [
    "# Combine dataframes"
   ]
  },
  {
   "cell_type": "code",
   "execution_count": 1186,
   "id": "2ef4ae75",
   "metadata": {},
   "outputs": [],
   "source": [
    "df_muse = pd.read_csv('muse_bysong_clean.csv', sep='\\t', index_col = [0])"
   ]
  },
  {
   "cell_type": "code",
   "execution_count": 1187,
   "id": "95cc4c94",
   "metadata": {},
   "outputs": [],
   "source": [
    "df_dido = pd.read_csv(f'{artist}_bysong_clean.csv', sep='\\t', index_col = [0])"
   ]
  },
  {
   "cell_type": "code",
   "execution_count": 1188,
   "id": "aa3e9f88",
   "metadata": {},
   "outputs": [
    {
     "data": {
      "text/html": [
       "<div><div id=98da58e9-6f9c-443b-bbf5-f82ac5bd3aa6 style=\"display:none; background-color:#9D6CFF; color:white; width:200px; height:30px; padding-left:5px; border-radius:4px; flex-direction:row; justify-content:space-around; align-items:center;\" onmouseover=\"this.style.backgroundColor='#BA9BF8'\" onmouseout=\"this.style.backgroundColor='#9D6CFF'\" onclick=\"window.commands?.execute('create-mitosheet-from-dataframe-output');\">See Full Dataframe in Mito</div> <script> if (window.commands.hasCommand('create-mitosheet-from-dataframe-output')) document.getElementById('98da58e9-6f9c-443b-bbf5-f82ac5bd3aa6').style.display = 'flex' </script> <table border=\"1\" class=\"dataframe\">\n",
       "  <thead>\n",
       "    <tr style=\"text-align: right;\">\n",
       "      <th></th>\n",
       "      <th>lyrics</th>\n",
       "      <th>title</th>\n",
       "      <th>artist</th>\n",
       "    </tr>\n",
       "  </thead>\n",
       "  <tbody>\n",
       "    <tr>\n",
       "      <th>0</th>\n",
       "      <td>take me for a ride break me up and steal whats left inside and make them pray the iniquity has died inside and left a scar  im all red and done bring me peace and wash away my dirt spin me round and have me to divert and walk into the light  warm my heart to remind and hold my head up high and help me to survive kick me when im down  feed me poison for me till i drown wake me up before i get ṗunched out and fall into the night  warm my heart to remind and hold my head up high and help me to survive</td>\n",
       "      <td>liquid state</td>\n",
       "      <td>muse</td>\n",
       "    </tr>\n",
       "    <tr>\n",
       "      <th>1</th>\n",
       "      <td>stay wait for me  build a fortress and shield your beliefs  touch the divide as we fall in the ravine    cant believe  when i dont trust  all your theories turn to dust  a truth to hide  from you seeing red    destroy this city of delusion  break these walls down  why do we face  justify my reasons with your bloody hand    you will not rest  settle for less  until you guzzle and squander whats left    do not deny  where you live  and led alone    destroy this city of delusion  break these walls down  why do we face  justify my reasons with your bloody hand    destroy this city of delusion  break these walls down  why do we face  justify my reasons with your bloody hand</td>\n",
       "      <td>city of delusion</td>\n",
       "      <td>muse</td>\n",
       "    </tr>\n",
       "  </tbody>\n",
       "</table></div>"
      ],
      "text/plain": [
       "                                              lyrics             title artist\n",
       "0  take me for a ride break me up and steal whats...      liquid state   muse\n",
       "1  stay wait for me  build a fortress and shield ...  city of delusion   muse"
      ]
     },
     "execution_count": 1188,
     "metadata": {},
     "output_type": "execute_result"
    }
   ],
   "source": [
    "df_muse.head(2)"
   ]
  },
  {
   "cell_type": "code",
   "execution_count": 1189,
   "id": "9170d4ab",
   "metadata": {},
   "outputs": [
    {
     "data": {
      "text/html": [
       "<div><div id=edaf6730-ce86-473a-8849-f980ba581566 style=\"display:none; background-color:#9D6CFF; color:white; width:200px; height:30px; padding-left:5px; border-radius:4px; flex-direction:row; justify-content:space-around; align-items:center;\" onmouseover=\"this.style.backgroundColor='#BA9BF8'\" onmouseout=\"this.style.backgroundColor='#9D6CFF'\" onclick=\"window.commands?.execute('create-mitosheet-from-dataframe-output');\">See Full Dataframe in Mito</div> <script> if (window.commands.hasCommand('create-mitosheet-from-dataframe-output')) document.getElementById('edaf6730-ce86-473a-8849-f980ba581566').style.display = 'flex' </script> <table border=\"1\" class=\"dataframe\">\n",
       "  <thead>\n",
       "    <tr style=\"text-align: right;\">\n",
       "      <th></th>\n",
       "      <th>lyrics</th>\n",
       "      <th>title</th>\n",
       "      <th>artist</th>\n",
       "    </tr>\n",
       "  </thead>\n",
       "  <tbody>\n",
       "    <tr>\n",
       "      <th>0</th>\n",
       "      <td>i want the view from the top of the hill  give me the view from the top of the hill    when i think of you  and your good life  and your sorrow too  how much i'm missing you  no matter where i go  or where i come to stay  this is waking up  i want this feeling  doors wide open    and now i leave it all  bags of trouble  and a messy mind  oh i hope i find  where your load is light  where your heart's at ease  this is waking up  and feeling good feeling good    hey i'm making my mistakes  'cause i'm no great shakes at being perfect  i just take my breaks and work it  bring it to the surface  like a scuba diver  never nervous  cause now i'm older and wiser  an' i've a bold feelin'  this old skin is peeln'  revealing a new layer  i'm no soothsayer  but i feel it's time to leave  to polish my heart with the other sleeve    i want the view from the top of the hill  give me the view from the top of the hill  i want the view from the top of the hill  give me the view from the top of the hill    and feeling good feeling good</td>\n",
       "      <td>feelin</td>\n",
       "      <td>dido</td>\n",
       "    </tr>\n",
       "    <tr>\n",
       "      <th>1</th>\n",
       "      <td>with one light on in one room i know you're up when i get home with one small step upon the stair i know your look when i get there if you were a king up there on your throne would you be wise enough to let me go for this queen you think you own wants to be a hunter again i want to see the world alone again to take a chance on life again so let me go  the unread book and painful look the tv's on the sound is down one long pause then you begin oh look what the cat's brought in if you were a king up there on your throne would you be wise enough to let me go for this queen you think you own wants to be a hunter again i want to see the world alone again to take a chance on life again so let me go let me leave  for the crown you've placed upon my head feels too heavy now and i don't know what to say to you but i'll smile anyhow and all the time i'm thinking thinking  i want to be a hunter again i want to see the world alone again to take a chance on life again so let me go  i want to be a hunter again i want to see the world alone again to take a chance on life again so let me go  let me leave let me go</td>\n",
       "      <td>hunter</td>\n",
       "      <td>dido</td>\n",
       "    </tr>\n",
       "  </tbody>\n",
       "</table></div>"
      ],
      "text/plain": [
       "                                              lyrics   title artist\n",
       "0  i want the view from the top of the hill  give...  feelin   dido\n",
       "1  with one light on in one room i know you're up...  hunter   dido"
      ]
     },
     "execution_count": 1189,
     "metadata": {},
     "output_type": "execute_result"
    }
   ],
   "source": [
    "df_dido.head(2)"
   ]
  },
  {
   "cell_type": "code",
   "execution_count": 1190,
   "id": "7e865cdb",
   "metadata": {},
   "outputs": [],
   "source": [
    "df_full = df_dido.append(df_muse)"
   ]
  },
  {
   "cell_type": "code",
   "execution_count": 1191,
   "id": "08adfd2a",
   "metadata": {},
   "outputs": [],
   "source": [
    "df_full.dropna(inplace=True)"
   ]
  },
  {
   "cell_type": "code",
   "execution_count": 1192,
   "id": "92aec5f0",
   "metadata": {},
   "outputs": [],
   "source": [
    "df_full = df_full.reset_index(drop=True)"
   ]
  },
  {
   "cell_type": "code",
   "execution_count": 1193,
   "id": "1bcc8e37",
   "metadata": {},
   "outputs": [],
   "source": [
    "df_full = df_full.join(pd.get_dummies(df_full['artist'], drop_first=True))"
   ]
  },
  {
   "cell_type": "code",
   "execution_count": 1194,
   "id": "4633b454",
   "metadata": {},
   "outputs": [
    {
     "data": {
      "text/plain": [
       "(                                              lyrics   title artist  muse\n",
       " 0  i want the view from the top of the hill  give...  feelin   dido     0,\n",
       "                                                 lyrics                title  \\\n",
       " 216  lips are turning blue  a kiss that cant renew ...  sing for absolution   \n",
       " \n",
       "     artist  muse  \n",
       " 216   muse     1  )"
      ]
     },
     "execution_count": 1194,
     "metadata": {},
     "output_type": "execute_result"
    }
   ],
   "source": [
    "df_full.head(1), df_full.tail(1)"
   ]
  },
  {
   "cell_type": "code",
   "execution_count": 1195,
   "id": "211addec",
   "metadata": {},
   "outputs": [],
   "source": [
    "df_full.to_csv('full_bysong_clean.csv', sep='\\t')"
   ]
  },
  {
   "cell_type": "markdown",
   "id": "625c42ff",
   "metadata": {},
   "source": [
    "## Word cloud for muse"
   ]
  },
  {
   "cell_type": "code",
   "execution_count": 1228,
   "id": "1ebe5143",
   "metadata": {},
   "outputs": [],
   "source": [
    "df_muse.dropna(inplace=True)"
   ]
  },
  {
   "cell_type": "code",
   "execution_count": 1229,
   "id": "400ba671",
   "metadata": {},
   "outputs": [],
   "source": [
    "text_muse = \" \".join(rew for rew in df_muse.lyrics)"
   ]
  },
  {
   "cell_type": "code",
   "execution_count": 1230,
   "id": "a174d000",
   "metadata": {},
   "outputs": [],
   "source": [
    "stopwords = set(STOPWORDS)\n",
    "stopwords.update(['cant', 'will', 'youre', 'know', 'im', 'ill', 'dont', 'now'])"
   ]
  },
  {
   "cell_type": "code",
   "execution_count": 1231,
   "id": "55759bd0",
   "metadata": {},
   "outputs": [],
   "source": [
    "wordcloud = WordCloud(background_color=\"white\", stopwords = stopwords).generate(text_muse)"
   ]
  },
  {
   "cell_type": "code",
   "execution_count": 1232,
   "id": "a3b65501",
   "metadata": {},
   "outputs": [
    {
     "data": {
      "image/png": "[encoded data removed]",
      "text/plain": [
       "<Figure size 432x288 with 1 Axes>"
      ]
     },
     "metadata": {
      "needs_background": "light"
     },
     "output_type": "display_data"
    }
   ],
   "source": [
    "plt.imshow(wordcloud, interpolation='bilinear')\n",
    "plt.axis(\"off\")\n",
    "plt.show()"
   ]
  },
  {
   "cell_type": "markdown",
   "id": "4284aa1f",
   "metadata": {},
   "source": [
    "## World cloud for Dido"
   ]
  },
  {
   "cell_type": "code",
   "execution_count": 1225,
   "id": "6c150569",
   "metadata": {},
   "outputs": [],
   "source": [
    "stopwords = set(STOPWORDS)\n",
    "stopwords.update(['cant', 'will', 'youre', 'know', 'im', 'ill', 'dont', 'now'])"
   ]
  },
  {
   "cell_type": "code",
   "execution_count": 1226,
   "id": "5d4ed408",
   "metadata": {},
   "outputs": [],
   "source": [
    "stopwords_o = 'cant', 'will', 'youre'\n",
    "df_dido.dropna(inplace=True)\n",
    "text_dido = \" \".join(rew for rew in df_dido.lyrics)\n",
    "wordcloud = WordCloud(background_color=\"white\", stopwords = stopwords).generate(text_dido)"
   ]
  },
  {
   "cell_type": "code",
   "execution_count": 1227,
   "id": "973c02e5",
   "metadata": {},
   "outputs": [
    {
     "data": {
      "image/png": "[encoded data removed]",
      "text/plain": [
       "<Figure size 432x288 with 1 Axes>"
      ]
     },
     "metadata": {
      "needs_background": "light"
     },
     "output_type": "display_data"
    }
   ],
   "source": [
    "plt.imshow(wordcloud, interpolation='bilinear')\n",
    "plt.axis(\"off\")\n",
    "plt.show()"
   ]
  },
  {
   "cell_type": "markdown",
   "id": "76d88adc",
   "metadata": {},
   "source": [
    "# Split test and train"
   ]
  },
  {
   "cell_type": "code",
   "execution_count": 1019,
   "id": "d3dc8322",
   "metadata": {},
   "outputs": [],
   "source": [
    "df_full = pd.read_csv('full_bysong_clean.csv', sep='\\t', index_col = [0])"
   ]
  },
  {
   "cell_type": "code",
   "execution_count": 1020,
   "id": "02012a6a",
   "metadata": {},
   "outputs": [],
   "source": [
    "df_train, df_test = train_test_split(df_full, test_size=0.2, random_state = 30)"
   ]
  },
  {
   "cell_type": "code",
   "execution_count": 1021,
   "id": "b5883508",
   "metadata": {},
   "outputs": [],
   "source": [
    "df_train = df_train.reset_index(drop=True)\n",
    "df_test = df_test.reset_index(drop=True)"
   ]
  },
  {
   "cell_type": "code",
   "execution_count": 1022,
   "id": "65ce80fc",
   "metadata": {},
   "outputs": [],
   "source": [
    "# y - \n",
    "labels = df_train['muse'].tolist()"
   ]
  },
  {
   "cell_type": "code",
   "execution_count": 1023,
   "id": "9d6341d1",
   "metadata": {},
   "outputs": [],
   "source": [
    "labels_test = df_test['muse'].tolist()"
   ]
  },
  {
   "cell_type": "markdown",
   "id": "9a4298a0",
   "metadata": {},
   "source": [
    "# Count vectorizer and TfidVectorizer"
   ]
  },
  {
   "cell_type": "code",
   "execution_count": 1024,
   "id": "e84e5528",
   "metadata": {},
   "outputs": [],
   "source": [
    "vectorizer_tf = TfidfVectorizer(stop_words='english',\n",
    "                                tokenizer = LemmaTokenizer(),\n",
    "                                token_pattern = r'\\b[a-zA-Z]{3,}\\b')\n",
    "\n"
   ]
  },
  {
   "cell_type": "code",
   "execution_count": 1025,
   "id": "4d04c91e",
   "metadata": {},
   "outputs": [
    {
     "name": "stderr",
     "output_type": "stream",
     "text": [
      "/Users/ilonanietosvaara/opt/anaconda3/lib/python3.8/site-packages/sklearn/feature_extraction/text.py:396: UserWarning: Your stop_words may be inconsistent with your preprocessing. Tokenizing the stop words generated tokens ['ha', 'le', 'u', 'wa'] not in stop_words.\n",
      "  warnings.warn(\n"
     ]
    }
   ],
   "source": [
    "X_train_tf = vectorizer_tf.fit_transform(df_train['lyrics'])\n",
    "X_test_tf = vectorizer_tf.transform(df_test['lyrics'])"
   ]
  },
  {
   "cell_type": "code",
   "execution_count": 1026,
   "id": "235571f3",
   "metadata": {},
   "outputs": [],
   "source": [
    "df_train_tf = pd.DataFrame(X_train_tf.toarray(), columns=vectorizer_tf.get_feature_names_out(), index=labels)\n",
    "df_test_tf = pd.DataFrame(X_test_tf.toarray(), columns=vectorizer_tf.get_feature_names_out(), index=labels_test)\n",
    "\n"
   ]
  },
  {
   "cell_type": "code",
   "execution_count": 1027,
   "id": "1ea013f5",
   "metadata": {},
   "outputs": [
    {
     "data": {
      "text/html": [
       "<div><div id=653f8475-012b-4cb0-8873-ca252fab71e7 style=\"display:none; background-color:#9D6CFF; color:white; width:200px; height:30px; padding-left:5px; border-radius:4px; flex-direction:row; justify-content:space-around; align-items:center;\" onmouseover=\"this.style.backgroundColor='#BA9BF8'\" onmouseout=\"this.style.backgroundColor='#9D6CFF'\" onclick=\"window.commands?.execute('create-mitosheet-from-dataframe-output');\">See Full Dataframe in Mito</div> <script> if (window.commands.hasCommand('create-mitosheet-from-dataframe-output')) document.getElementById('653f8475-012b-4cb0-8873-ca252fab71e7').style.display = 'flex' </script> <table border=\"1\" class=\"dataframe\">\n",
       "  <thead>\n",
       "    <tr style=\"text-align: right;\">\n",
       "      <th></th>\n",
       "      <th>abandon</th>\n",
       "      <th>abd</th>\n",
       "      <th>abide</th>\n",
       "      <th>ablaze</th>\n",
       "      <th>able</th>\n",
       "      <th>absent</th>\n",
       "      <th>absolutely</th>\n",
       "      <th>absurd</th>\n",
       "      <th>abused</th>\n",
       "      <th>accept</th>\n",
       "      <th>...</th>\n",
       "      <th>youre</th>\n",
       "      <th>youth</th>\n",
       "      <th>youve</th>\n",
       "      <th>zeta</th>\n",
       "      <th>zigzag</th>\n",
       "      <th>árvore</th>\n",
       "      <th>é</th>\n",
       "      <th>ṗull</th>\n",
       "      <th>ṗunched</th>\n",
       "      <th>’</th>\n",
       "    </tr>\n",
       "  </thead>\n",
       "  <tbody>\n",
       "    <tr>\n",
       "      <th>1</th>\n",
       "      <td>0.0</td>\n",
       "      <td>0.0</td>\n",
       "      <td>0.0</td>\n",
       "      <td>0.0</td>\n",
       "      <td>0.0</td>\n",
       "      <td>0.0</td>\n",
       "      <td>0.0</td>\n",
       "      <td>0.0</td>\n",
       "      <td>0.0</td>\n",
       "      <td>0.0</td>\n",
       "      <td>...</td>\n",
       "      <td>0.0</td>\n",
       "      <td>0.0</td>\n",
       "      <td>0.037563</td>\n",
       "      <td>0.0</td>\n",
       "      <td>0.0</td>\n",
       "      <td>0.0</td>\n",
       "      <td>0.0</td>\n",
       "      <td>0.0</td>\n",
       "      <td>0.0</td>\n",
       "      <td>0.0</td>\n",
       "    </tr>\n",
       "    <tr>\n",
       "      <th>0</th>\n",
       "      <td>0.0</td>\n",
       "      <td>0.0</td>\n",
       "      <td>0.0</td>\n",
       "      <td>0.0</td>\n",
       "      <td>0.0</td>\n",
       "      <td>0.0</td>\n",
       "      <td>0.0</td>\n",
       "      <td>0.0</td>\n",
       "      <td>0.0</td>\n",
       "      <td>0.0</td>\n",
       "      <td>...</td>\n",
       "      <td>0.0</td>\n",
       "      <td>0.0</td>\n",
       "      <td>0.054181</td>\n",
       "      <td>0.0</td>\n",
       "      <td>0.0</td>\n",
       "      <td>0.0</td>\n",
       "      <td>0.0</td>\n",
       "      <td>0.0</td>\n",
       "      <td>0.0</td>\n",
       "      <td>0.0</td>\n",
       "    </tr>\n",
       "  </tbody>\n",
       "</table></div>"
      ],
      "text/plain": [
       "   abandon  abd  abide  ablaze  able  absent  absolutely  absurd  abused  \\\n",
       "1      0.0  0.0    0.0     0.0   0.0     0.0         0.0     0.0     0.0   \n",
       "0      0.0  0.0    0.0     0.0   0.0     0.0         0.0     0.0     0.0   \n",
       "\n",
       "   accept  ...  youre  youth     youve  zeta  zigzag  árvore    é  ṗull  \\\n",
       "1     0.0  ...    0.0    0.0  0.037563   0.0     0.0     0.0  0.0   0.0   \n",
       "0     0.0  ...    0.0    0.0  0.054181   0.0     0.0     0.0  0.0   0.0   \n",
       "\n",
       "   ṗunched    ’  \n",
       "1      0.0  0.0  \n",
       "0      0.0  0.0  \n",
       "\n",
       "[2 rows x 2198 columns]"
      ]
     },
     "execution_count": 1027,
     "metadata": {},
     "output_type": "execute_result"
    }
   ],
   "source": [
    "df_train_tf.head(2)"
   ]
  },
  {
   "cell_type": "code",
   "execution_count": 1028,
   "id": "a9b02ab5",
   "metadata": {},
   "outputs": [
    {
     "data": {
      "text/plain": [
       "'\\nclass LemmaTokenizer(object):\\n    def __init__(self):\\n        self.wnl = WordNetLemmatizer()\\n    def __call__(self, articles):\\n        return [self.wnl.lemmatize(t) for t in word_tokenize(articles)]\\n'"
      ]
     },
     "execution_count": 1028,
     "metadata": {},
     "output_type": "execute_result"
    }
   ],
   "source": [
    "'''\n",
    "class LemmaTokenizer(object):\n",
    "    def __init__(self):\n",
    "        self.wnl = WordNetLemmatizer()\n",
    "    def __call__(self, articles):\n",
    "        return [self.wnl.lemmatize(t) for t in word_tokenize(articles)]\n",
    "'''"
   ]
  },
  {
   "cell_type": "code",
   "execution_count": 1029,
   "id": "7502e61f",
   "metadata": {},
   "outputs": [],
   "source": [
    "vectorizer = CountVectorizer(stop_words='english',\n",
    "                            tokenizer = LemmaTokenizer(),\n",
    "                            token_pattern = r'\\b[a-zA-Z]{3,}\\b', # keeps words of 3 or more characters\n",
    "                            #ngram_range=(2,2)\n",
    "                            max_df = 0.85) #ignore terms that have a document frequency strictly higher than the given threshold\n"
   ]
  },
  {
   "cell_type": "code",
   "execution_count": 1030,
   "id": "681ba517",
   "metadata": {},
   "outputs": [
    {
     "name": "stderr",
     "output_type": "stream",
     "text": [
      "/Users/ilonanietosvaara/opt/anaconda3/lib/python3.8/site-packages/sklearn/feature_extraction/text.py:396: UserWarning: Your stop_words may be inconsistent with your preprocessing. Tokenizing the stop words generated tokens ['ha', 'le', 'u', 'wa'] not in stop_words.\n",
      "  warnings.warn(\n"
     ]
    }
   ],
   "source": [
    "X_train = vectorizer.fit_transform(df_train['lyrics'].values.astype('U'))\n",
    "X_test = vectorizer.transform(df_test['lyrics'].values.astype('U'))"
   ]
  },
  {
   "cell_type": "code",
   "execution_count": 1031,
   "id": "5699af42",
   "metadata": {},
   "outputs": [
    {
     "data": {
      "text/plain": [
       "(array([[0, 0, 0, ..., 0, 0, 0],\n",
       "        [0, 0, 0, ..., 0, 0, 0],\n",
       "        [0, 0, 0, ..., 0, 0, 0],\n",
       "        ...,\n",
       "        [0, 0, 0, ..., 0, 0, 0],\n",
       "        [0, 0, 0, ..., 0, 0, 0],\n",
       "        [0, 0, 0, ..., 0, 0, 0]]),\n",
       " array([[0, 0, 0, ..., 0, 0, 0],\n",
       "        [0, 0, 0, ..., 0, 0, 0],\n",
       "        [0, 0, 0, ..., 0, 0, 0],\n",
       "        ...,\n",
       "        [0, 0, 0, ..., 0, 0, 0],\n",
       "        [0, 0, 0, ..., 0, 0, 0],\n",
       "        [0, 0, 0, ..., 0, 0, 0]]))"
      ]
     },
     "execution_count": 1031,
     "metadata": {},
     "output_type": "execute_result"
    }
   ],
   "source": [
    "X_train.toarray(), X_test.toarray()"
   ]
  },
  {
   "cell_type": "code",
   "execution_count": 1032,
   "id": "5041b4e0",
   "metadata": {},
   "outputs": [],
   "source": [
    "df_train_count = pd.DataFrame(X_train.toarray(), columns=vectorizer.get_feature_names_out(), index = labels)\n",
    "df_test_count = pd.DataFrame(X_test.toarray(), columns=vectorizer.get_feature_names_out(), index = labels_test)"
   ]
  },
  {
   "cell_type": "code",
   "execution_count": 1033,
   "id": "e59c0b9d",
   "metadata": {},
   "outputs": [
    {
     "data": {
      "text/html": [
       "<div><div id=d9fb0b84-bdd6-4101-a7d1-92e845938d7e style=\"display:none; background-color:#9D6CFF; color:white; width:200px; height:30px; padding-left:5px; border-radius:4px; flex-direction:row; justify-content:space-around; align-items:center;\" onmouseover=\"this.style.backgroundColor='#BA9BF8'\" onmouseout=\"this.style.backgroundColor='#9D6CFF'\" onclick=\"window.commands?.execute('create-mitosheet-from-dataframe-output');\">See Full Dataframe in Mito</div> <script> if (window.commands.hasCommand('create-mitosheet-from-dataframe-output')) document.getElementById('d9fb0b84-bdd6-4101-a7d1-92e845938d7e').style.display = 'flex' </script> <table border=\"1\" class=\"dataframe\">\n",
       "  <thead>\n",
       "    <tr style=\"text-align: right;\">\n",
       "      <th></th>\n",
       "      <th>abandon</th>\n",
       "      <th>abd</th>\n",
       "      <th>abide</th>\n",
       "      <th>ablaze</th>\n",
       "      <th>able</th>\n",
       "      <th>absent</th>\n",
       "      <th>absolutely</th>\n",
       "      <th>absurd</th>\n",
       "      <th>abused</th>\n",
       "      <th>accept</th>\n",
       "      <th>...</th>\n",
       "      <th>youre</th>\n",
       "      <th>youth</th>\n",
       "      <th>youve</th>\n",
       "      <th>zeta</th>\n",
       "      <th>zigzag</th>\n",
       "      <th>árvore</th>\n",
       "      <th>é</th>\n",
       "      <th>ṗull</th>\n",
       "      <th>ṗunched</th>\n",
       "      <th>’</th>\n",
       "    </tr>\n",
       "  </thead>\n",
       "  <tbody>\n",
       "    <tr>\n",
       "      <th>1</th>\n",
       "      <td>0</td>\n",
       "      <td>0</td>\n",
       "      <td>0</td>\n",
       "      <td>0</td>\n",
       "      <td>0</td>\n",
       "      <td>0</td>\n",
       "      <td>0</td>\n",
       "      <td>0</td>\n",
       "      <td>0</td>\n",
       "      <td>0</td>\n",
       "      <td>...</td>\n",
       "      <td>0</td>\n",
       "      <td>0</td>\n",
       "      <td>1</td>\n",
       "      <td>0</td>\n",
       "      <td>0</td>\n",
       "      <td>0</td>\n",
       "      <td>0</td>\n",
       "      <td>0</td>\n",
       "      <td>0</td>\n",
       "      <td>0</td>\n",
       "    </tr>\n",
       "    <tr>\n",
       "      <th>0</th>\n",
       "      <td>0</td>\n",
       "      <td>0</td>\n",
       "      <td>0</td>\n",
       "      <td>0</td>\n",
       "      <td>0</td>\n",
       "      <td>0</td>\n",
       "      <td>0</td>\n",
       "      <td>0</td>\n",
       "      <td>0</td>\n",
       "      <td>0</td>\n",
       "      <td>...</td>\n",
       "      <td>0</td>\n",
       "      <td>0</td>\n",
       "      <td>1</td>\n",
       "      <td>0</td>\n",
       "      <td>0</td>\n",
       "      <td>0</td>\n",
       "      <td>0</td>\n",
       "      <td>0</td>\n",
       "      <td>0</td>\n",
       "      <td>0</td>\n",
       "    </tr>\n",
       "  </tbody>\n",
       "</table></div>"
      ],
      "text/plain": [
       "   abandon  abd  abide  ablaze  able  absent  absolutely  absurd  abused  \\\n",
       "1        0    0      0       0     0       0           0       0       0   \n",
       "0        0    0      0       0     0       0           0       0       0   \n",
       "\n",
       "   accept  ...  youre  youth  youve  zeta  zigzag  árvore  é  ṗull  ṗunched  ’  \n",
       "1       0  ...      0      0      1     0       0       0  0     0        0  0  \n",
       "0       0  ...      0      0      1     0       0       0  0     0        0  0  \n",
       "\n",
       "[2 rows x 2198 columns]"
      ]
     },
     "execution_count": 1033,
     "metadata": {},
     "output_type": "execute_result"
    }
   ],
   "source": [
    "df_train_count.head(2)"
   ]
  },
  {
   "cell_type": "code",
   "execution_count": 1034,
   "id": "4351e4ce",
   "metadata": {},
   "outputs": [
    {
     "data": {
      "text/plain": [
       "((173, 2198), (44, 2198))"
      ]
     },
     "execution_count": 1034,
     "metadata": {},
     "output_type": "execute_result"
    }
   ],
   "source": [
    "df_train_count.shape, df_test_count.shape"
   ]
  },
  {
   "cell_type": "markdown",
   "id": "f708c2fe",
   "metadata": {},
   "source": [
    "# Logistic regression"
   ]
  },
  {
   "cell_type": "code",
   "execution_count": 1035,
   "id": "30c1caf0",
   "metadata": {},
   "outputs": [],
   "source": [
    "# Transform labels to string in order to get the artist names (instead of 1 or 0)\n",
    "output = [str(x) for x in labels]\n",
    "output_test = [str(x) for x in labels_test]"
   ]
  },
  {
   "cell_type": "code",
   "execution_count": 1036,
   "id": "0c06ca36",
   "metadata": {},
   "outputs": [],
   "source": [
    "# Get data into 0.1 format \n",
    "artists = [w.replace('1', 'muse') for w in output]\n",
    "artists = [w.replace('0', 'dido') for w in artists]\n",
    "\n",
    "artists_test = [w.replace('1', 'muse') for w in output_test]\n",
    "artists_test = [w.replace('0', 'dido') for w in artists_test]"
   ]
  },
  {
   "cell_type": "code",
   "execution_count": 1037,
   "id": "6d1db0e9",
   "metadata": {},
   "outputs": [],
   "source": [
    "# Set variables\n",
    "X = X_train.toarray()\n",
    "y = labels\n",
    "\n",
    "X_test = X_test.toarray()\n",
    "y_test = labels_test"
   ]
  },
  {
   "cell_type": "code",
   "execution_count": 1038,
   "id": "cc6db2b4",
   "metadata": {},
   "outputs": [],
   "source": [
    "# Fit model to train data\n",
    "m = LogisticRegression(C=0.0001).fit(X, y)"
   ]
  },
  {
   "cell_type": "markdown",
   "id": "9e5177aa",
   "metadata": {},
   "source": [
    "**Hyperparameter C:** \n",
    "\n",
    "A high value of C tells the model to give high weight to the training data, and a lower weight to the complexity penalty. A low value tells the model to give more weight to this complexity penalty at the expense of fitting to the training data."
   ]
  },
  {
   "cell_type": "code",
   "execution_count": 1039,
   "id": "77516d60",
   "metadata": {},
   "outputs": [
    {
     "data": {
      "text/plain": [
       "(0.5838150289017341, 0.7045454545454546)"
      ]
     },
     "execution_count": 1039,
     "metadata": {},
     "output_type": "execute_result"
    }
   ],
   "source": [
    "# Logistic model test scores\n",
    "m.score(X,y), m.score(X_test, y_test)\n"
   ]
  },
  {
   "cell_type": "code",
   "execution_count": 1040,
   "id": "e8c6afae",
   "metadata": {},
   "outputs": [
    {
     "data": {
      "text/plain": [
       "array([1])"
      ]
     },
     "execution_count": 1040,
     "metadata": {},
     "output_type": "execute_result"
    }
   ],
   "source": [
    "# 1 = muse (--> bad prediction)\n",
    "m.predict(vectorizer.transform([\"sand shoes\"]))"
   ]
  },
  {
   "cell_type": "code",
   "execution_count": 1041,
   "id": "09f4c0fe",
   "metadata": {},
   "outputs": [
    {
     "data": {
      "text/plain": [
       "array([[0.41046133, 0.58953867]])"
      ]
     },
     "execution_count": 1041,
     "metadata": {},
     "output_type": "execute_result"
    }
   ],
   "source": [
    "m.predict_proba(vectorizer.transform([\"sand shoes\"]))"
   ]
  },
  {
   "cell_type": "code",
   "execution_count": 1042,
   "id": "c5625db1",
   "metadata": {},
   "outputs": [
    {
     "data": {
      "text/plain": [
       "array([0, 1])"
      ]
     },
     "execution_count": 1042,
     "metadata": {},
     "output_type": "execute_result"
    }
   ],
   "source": [
    "m.classes_"
   ]
  },
  {
   "cell_type": "code",
   "execution_count": null,
   "id": "4b2f1b59",
   "metadata": {},
   "outputs": [],
   "source": [
    "print_evaluations(y, ypred_nb, \"Naive Bayes\")"
   ]
  },
  {
   "cell_type": "markdown",
   "id": "2eed008d",
   "metadata": {},
   "source": [
    "# Random forest classification"
   ]
  },
  {
   "cell_type": "code",
   "execution_count": 1043,
   "id": "fd6e361b",
   "metadata": {},
   "outputs": [],
   "source": [
    "y = labels\n",
    "#X = X_train.toarray()\n",
    "y_test = labels_test\n",
    "#X_test = X_test.toarray()"
   ]
  },
  {
   "cell_type": "code",
   "execution_count": 1048,
   "id": "6e26d826",
   "metadata": {},
   "outputs": [
    {
     "data": {
      "text/plain": [
       "173"
      ]
     },
     "execution_count": 1048,
     "metadata": {},
     "output_type": "execute_result"
    }
   ],
   "source": [
    "len(X)"
   ]
  },
  {
   "cell_type": "code",
   "execution_count": 1052,
   "id": "e19ded0b",
   "metadata": {},
   "outputs": [],
   "source": [
    "depth = int(len(X)/3)"
   ]
  },
  {
   "cell_type": "code",
   "execution_count": 1053,
   "id": "4db1a0c7",
   "metadata": {},
   "outputs": [
    {
     "data": {
      "text/plain": [
       "57"
      ]
     },
     "execution_count": 1053,
     "metadata": {},
     "output_type": "execute_result"
    }
   ],
   "source": [
    "depth"
   ]
  },
  {
   "cell_type": "code",
   "execution_count": 1054,
   "id": "bcc46b1c",
   "metadata": {},
   "outputs": [],
   "source": [
    "rf_clf = RandomForestClassifier(max_depth=3,\n",
    "                                max_features= depth,\n",
    "                                random_state=10)"
   ]
  },
  {
   "cell_type": "code",
   "execution_count": 1055,
   "id": "02ccfe60",
   "metadata": {},
   "outputs": [
    {
     "data": {
      "text/plain": [
       "RandomForestClassifier(max_depth=3, max_features=57, random_state=10)"
      ]
     },
     "execution_count": 1055,
     "metadata": {},
     "output_type": "execute_result"
    }
   ],
   "source": [
    "rf_clf.fit(X, y)"
   ]
  },
  {
   "cell_type": "code",
   "execution_count": 1056,
   "id": "9ee6792d",
   "metadata": {},
   "outputs": [],
   "source": [
    "ypred_rf = rf_clf.predict(X)\n",
    "y_test_pred_rf = rf_clf.predict(X_test)"
   ]
  },
  {
   "cell_type": "code",
   "execution_count": 1057,
   "id": "280228b5",
   "metadata": {},
   "outputs": [],
   "source": [
    "def print_evaluations(ytrue, ypred, model_name):\n",
    "    print(f'Scores of the model {model_name}:')\n",
    "    print(f'The accuracy of the model is: {round(accuracy_score(ytrue, ypred), 3)}')\n",
    "    print(f'The precision of the model is: {round(precision_score(ytrue, ypred), 3)}')\n",
    "    print(f'The recall of the model is: {round(recall_score(ytrue, ypred), 3)}')\n",
    "    print(f'The f1-score of the model is: {round(f1_score(ytrue, ypred), 3)}')\n",
    "    \n",
    "    #print confusion matrix\n",
    "    cm = confusion_matrix(ytrue, ypred)    \n",
    "    disp = ConfusionMatrixDisplay(cm, display_labels=['dido', 'muse'])\n",
    "    disp.plot()"
   ]
  },
  {
   "cell_type": "code",
   "execution_count": 1058,
   "id": "3c1bd0d9",
   "metadata": {},
   "outputs": [
    {
     "name": "stdout",
     "output_type": "stream",
     "text": [
      "Scores of the model Random Forest:\n",
      "The accuracy of the model is: 0.867\n",
      "The precision of the model is: 0.811\n",
      "The recall of the model is: 1.0\n",
      "The f1-score of the model is: 0.896\n"
     ]
    },
    {
     "data": {
      "image/png": "[encoded data removed]",
      "text/plain": [
       "<Figure size 432x288 with 2 Axes>"
      ]
     },
     "metadata": {
      "needs_background": "light"
     },
     "output_type": "display_data"
    }
   ],
   "source": [
    "print_evaluations(y, ypred_rf, \"Random Forest\")"
   ]
  },
  {
   "cell_type": "code",
   "execution_count": 1059,
   "id": "ddbc1c13",
   "metadata": {},
   "outputs": [
    {
     "name": "stdout",
     "output_type": "stream",
     "text": [
      "Scores of the model Random Forest:\n",
      "The accuracy of the model is: 0.795\n",
      "The precision of the model is: 0.769\n",
      "The recall of the model is: 1.0\n",
      "The f1-score of the model is: 0.87\n"
     ]
    },
    {
     "data": {
      "image/png": "[encoded data removed]",
      "text/plain": [
       "<Figure size 432x288 with 2 Axes>"
      ]
     },
     "metadata": {
      "needs_background": "light"
     },
     "output_type": "display_data"
    }
   ],
   "source": [
    "print_evaluations(y_test, y_test_pred_rf, \"Random Forest\")"
   ]
  },
  {
   "cell_type": "markdown",
   "id": "cb94786f",
   "metadata": {},
   "source": [
    "# Naive Bayes"
   ]
  },
  {
   "cell_type": "code",
   "execution_count": 1060,
   "id": "ce5d9bd6",
   "metadata": {},
   "outputs": [],
   "source": [
    "model = MultinomialNB()"
   ]
  },
  {
   "cell_type": "code",
   "execution_count": 1061,
   "id": "466cb322",
   "metadata": {},
   "outputs": [
    {
     "data": {
      "text/plain": [
       "MultinomialNB()"
      ]
     },
     "execution_count": 1061,
     "metadata": {},
     "output_type": "execute_result"
    }
   ],
   "source": [
    "model.fit(X, artists)"
   ]
  },
  {
   "cell_type": "code",
   "execution_count": 1062,
   "id": "e625bee9",
   "metadata": {},
   "outputs": [
    {
     "data": {
      "text/plain": [
       "(0.976878612716763, 0.8181818181818182)"
      ]
     },
     "execution_count": 1062,
     "metadata": {},
     "output_type": "execute_result"
    }
   ],
   "source": [
    "model.score(X, artists), model.score(X_test, artists_test)"
   ]
  },
  {
   "cell_type": "code",
   "execution_count": 1063,
   "id": "9f1b3d4f",
   "metadata": {},
   "outputs": [],
   "source": [
    "new_lyrics = [\"I will take your innocence\", \"sand in the space\"]"
   ]
  },
  {
   "cell_type": "code",
   "execution_count": 1064,
   "id": "9e650142",
   "metadata": {},
   "outputs": [],
   "source": [
    "new_vectors = vectorizer.transform(new_lyrics)"
   ]
  },
  {
   "cell_type": "code",
   "execution_count": 1065,
   "id": "a8bbc88c",
   "metadata": {},
   "outputs": [
    {
     "data": {
      "text/plain": [
       "array(['muse', 'muse'], dtype='<U4')"
      ]
     },
     "execution_count": 1065,
     "metadata": {},
     "output_type": "execute_result"
    }
   ],
   "source": [
    "model.predict(new_vectors)"
   ]
  },
  {
   "cell_type": "code",
   "execution_count": 1066,
   "id": "03544362",
   "metadata": {},
   "outputs": [
    {
     "data": {
      "text/plain": [
       "array([[0.14160187, 0.85839813],\n",
       "       [0.38548149, 0.61451851]])"
      ]
     },
     "execution_count": 1066,
     "metadata": {},
     "output_type": "execute_result"
    }
   ],
   "source": [
    "model.predict_proba(new_vectors)"
   ]
  },
  {
   "cell_type": "code",
   "execution_count": 1067,
   "id": "19b1d976",
   "metadata": {},
   "outputs": [],
   "source": [
    "ypred_nb = model.predict(X)\n",
    "y_test_pred_nb = model.predict(X_test)"
   ]
  },
  {
   "cell_type": "markdown",
   "id": "9168a06b",
   "metadata": {},
   "source": [
    "# Class imbalance - not needed - data more or less balanced (57/ 43)"
   ]
  },
  {
   "cell_type": "code",
   "execution_count": null,
   "id": "b29f3388",
   "metadata": {},
   "outputs": [],
   "source": []
  }
 ],
 "metadata": {
  "kernelspec": {
   "display_name": "Python 3",
   "language": "python",
   "name": "python3"
  },
  "language_info": {
   "codemirror_mode": {
    "name": "ipython",
    "version": 3
   },
   "file_extension": ".py",
   "mimetype": "text/x-python",
   "name": "python",
   "nbconvert_exporter": "python",
   "pygments_lexer": "ipython3",
   "version": "3.8.8"
  }
 },
 "nbformat": 4,
 "nbformat_minor": 5
}
